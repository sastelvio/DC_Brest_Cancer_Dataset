{
  "cells": [
    {
      "cell_type": "markdown",
      "metadata": {
        "id": "view-in-github",
        "colab_type": "text"
      },
      "source": [
        "<a href=\"https://colab.research.google.com/github/sastelvios/data_science_tutorials/blob/main/Brest%20Cancer%20Dataset.ipynb\" target=\"_parent\"><img src=\"https://colab.research.google.com/assets/colab-badge.svg\" alt=\"Open In Colab\"/></a>"
      ]
    },
    {
      "cell_type": "markdown",
      "id": "69269e09",
      "metadata": {
        "id": "69269e09"
      },
      "source": [
        "# Principal Component Analysis (PCA)\n",
        "\n",
        "**Sastelvio MANUEL**\n",
        "\n",
        "**Purushottam MALVIYA**\n",
        "\n",
        "**Yapo JEAN**\n",
        "\n"
      ]
    },
    {
      "cell_type": "markdown",
      "id": "8878d67c",
      "metadata": {
        "id": "8878d67c"
      },
      "source": [
        "## Introduction\n",
        "\n",
        "Principal Component Analysis (PCA) is a **linear dimensionality reduction** technique that can be utilized for extracting information from a high-dimensional space by projecting it into a lower-dimensional sub-space. It tries to preserve the essential parts that have more variation of the data and remove the non-essential parts with fewer variation.\n",
        "\n",
        "Dimensions are nothing but features that represent the data. \n",
        "\n",
        "One important thing to note about PCA is that it is an **Unsupervised** dimensionality reduction technique, you can cluster the similar data points based on the feature correlation between them without any supervision (or labels).\n",
        "\n",
        "PCA is a **statistical** procedure that uses an orthogonal transformation to convert a set of observations of possibly correlated variables (entities each of which takes on various numerical values) into a set of values of linearly uncorrelated variables called principal components.\n",
        "\n",
        "**Note**: Features, Dimensions, and Variables are all referring to the same thing.\n",
        "\n",
        "#### Where can we apply PCA?\n",
        "\n",
        "- **Data Visualization**: When working on any data related problem, the challenge in today's world is the sheer volume of data, and the variables/features that define that data. To solve a problem where data is the key, you need extensive data exploration like finding out how the variables are correlated or understanding the distribution of a few variables. Considering that there are a large number of variables or dimensions along which the data is distributed, visualization can be a challenge and almost impossible.\n",
        "\n",
        "    Hence, PCA can do that for you since it projects the data into a lower dimension, thereby allowing you to visualize the data in a 2D or 3D space with a naked eye.\n",
        "\n",
        "- **Speeding Machine Learning (ML) Algorithm**: Since PCA's main idea is dimensionality reduction, you can leverage that to speed up your machine learning algorithm's training and testing time considering your data has a lot of features, and the ML algorithm's learning is too slow.\n",
        "\n",
        "At an abstract level,  you take a dataset having many features, and you simplify that dataset by selecting a few ``Principal Components`` from original features.\n",
        "\n",
        "#### What is a Principal Component?\n",
        "\n",
        "Principal components are the key to PCA; they represent what's underneath the hood of your data. In a layman term, when the data is projected into a lower dimension (assume three dimensions) from a higher space, the three dimensions are nothing but the three Principal Components that captures (or holds) most of the variance (information) of your data.\n",
        "\n",
        "Principal components have both direction and magnitude. The direction represents across which *principal axes* the data is mostly spread out or has most variance and the magnitude signifies the amount of variance that Principal Component captures of the data when projected onto that axis. The principal components are a straight line, and the first principal component holds the most variance in the data. Each subsequent principal component is orthogonal to the last and has a lesser variance. In this way, given a set of <i>x</i> correlated variables over <i>y</i> samples you achieve a set of <i>u</i> uncorrelated principal components over the same <i>y</i> samples.\n",
        "\n",
        "The reason you achieve uncorrelated principal components from the original features is that the correlated features contribute to the same principal component, thereby reducing the original data features into uncorrelated principal components; each representing a different set of correlated features with different amounts of variation.\n",
        "\n",
        "Each principal component represents a percentage of total variation captured from the data.\n",
        "\n",
        "## Understanding the dataset\n",
        "\n",
        "### Breast Cancer\n",
        "\n",
        "The Breast Cancer data set is a real-valued multivariate data that consists of two classes, where each class signifies whether a patient has breast cancer or not. The two categories are: malignant and benign.\n",
        "\n",
        "The malignant class has 212 samples, whereas the benign class has 357 samples.\n",
        "\n",
        "It has 30 features shared across all classes: radius, texture, perimeter, area, smoothness, fractal dimension, etc.\n",
        "\n",
        "You can download the breast cancer dataset from <a href=\"https://archive.ics.uci.edu/ml/datasets/Breast+Cancer+Wisconsin+(Diagnostic)\">here</a>.\n"
      ]
    },
    {
      "cell_type": "markdown",
      "id": "689f1db3",
      "metadata": {
        "id": "689f1db3"
      },
      "source": [
        "## Data Exploration\n",
        "\n",
        "Now we will be loading and analyzing the ``Breast Cancer`` dataset. By now you have an idea regarding the dimensionality of the dataset.\n",
        "\n",
        "#### Breast Cancer Data Exploration\n"
      ]
    },
    {
      "cell_type": "code",
      "execution_count": 1,
      "id": "f21f8838",
      "metadata": {
        "scrolled": true,
        "id": "f21f8838"
      },
      "outputs": [],
      "source": [
        "#importing libraries\n",
        "import pandas as pd\n",
        "import numpy as np\n",
        "import matplotlib.pyplot as plt\n",
        "import sklearn\n",
        "\n",
        "import matplotlib.pyplot as plt\n",
        "%matplotlib inline\n",
        "\n",
        "#To check the time of processing while testing the PCA against other techniques\n",
        "import time"
      ]
    },
    {
      "cell_type": "code",
      "execution_count": 2,
      "id": "d9ac92d2",
      "metadata": {
        "lines_to_next_cell": 2,
        "id": "d9ac92d2"
      },
      "outputs": [],
      "source": [
        "#uploading the dataset from sklearn.datasets*\n",
        "\n",
        "from sklearn.datasets import load_breast_cancer\n",
        "from sklearn.decomposition import PCA\n",
        "\n",
        "#for data visualization\n",
        "from sklearn.preprocessing import StandardScaler\n",
        "\n",
        "#To check the performance of PCA\n",
        "from sklearn.manifold import TSNE\n",
        "from sklearn.metrics import accuracy_score\n",
        "from sklearn.model_selection import train_test_split\n",
        "\n",
        "#to Train KNN\n",
        "from sklearn.neighbors import KNeighborsClassifier"
      ]
    },
    {
      "cell_type": "code",
      "execution_count": 3,
      "id": "a970337b",
      "metadata": {
        "colab": {
          "base_uri": "https://localhost:8080/"
        },
        "id": "a970337b",
        "outputId": "59c43d45-2df4-4233-f525-42e1b91b2449"
      },
      "outputs": [
        {
          "output_type": "execute_result",
          "data": {
            "text/plain": [
              "array([[1.799e+01, 1.038e+01, 1.228e+02, ..., 2.654e-01, 4.601e-01,\n",
              "        1.189e-01],\n",
              "       [2.057e+01, 1.777e+01, 1.329e+02, ..., 1.860e-01, 2.750e-01,\n",
              "        8.902e-02],\n",
              "       [1.969e+01, 2.125e+01, 1.300e+02, ..., 2.430e-01, 3.613e-01,\n",
              "        8.758e-02],\n",
              "       ...,\n",
              "       [1.660e+01, 2.808e+01, 1.083e+02, ..., 1.418e-01, 2.218e-01,\n",
              "        7.820e-02],\n",
              "       [2.060e+01, 2.933e+01, 1.401e+02, ..., 2.650e-01, 4.087e-01,\n",
              "        1.240e-01],\n",
              "       [7.760e+00, 2.454e+01, 4.792e+01, ..., 0.000e+00, 2.871e-01,\n",
              "        7.039e-02]])"
            ]
          },
          "metadata": {},
          "execution_count": 3
        }
      ],
      "source": [
        "#loading the dataset into the varialble breast\n",
        "breast = load_breast_cancer()\n",
        "breast_data = breast.data\n",
        "breast_data"
      ]
    },
    {
      "cell_type": "code",
      "execution_count": 4,
      "id": "40cc1ca9",
      "metadata": {
        "lines_to_next_cell": 0,
        "colab": {
          "base_uri": "https://localhost:8080/"
        },
        "id": "40cc1ca9",
        "outputId": "4171d61c-dbfd-4bfb-ead0-19c5b530acc9"
      },
      "outputs": [
        {
          "output_type": "execute_result",
          "data": {
            "text/plain": [
              "(569, 30)"
            ]
          },
          "metadata": {},
          "execution_count": 4
        }
      ],
      "source": [
        "#Check the shape of the data.\n",
        "breast_data.shape"
      ]
    },
    {
      "cell_type": "code",
      "execution_count": 5,
      "id": "48c08a27",
      "metadata": {
        "lines_to_next_cell": 2,
        "colab": {
          "base_uri": "https://localhost:8080/"
        },
        "id": "48c08a27",
        "outputId": "6c3e6c26-9d49-46ad-e023-b4d507a86604"
      },
      "outputs": [
        {
          "output_type": "execute_result",
          "data": {
            "text/plain": [
              "array([0, 0, 0, 0, 0, 0, 0, 0, 0, 0, 0, 0, 0, 0, 0, 0, 0, 0, 0, 1, 1, 1,\n",
              "       0, 0, 0, 0, 0, 0, 0, 0, 0, 0, 0, 0, 0, 0, 0, 1, 0, 0, 0, 0, 0, 0,\n",
              "       0, 0, 1, 0, 1, 1, 1, 1, 1, 0, 0, 1, 0, 0, 1, 1, 1, 1, 0, 1, 0, 0,\n",
              "       1, 1, 1, 1, 0, 1, 0, 0, 1, 0, 1, 0, 0, 1, 1, 1, 0, 0, 1, 0, 0, 0,\n",
              "       1, 1, 1, 0, 1, 1, 0, 0, 1, 1, 1, 0, 0, 1, 1, 1, 1, 0, 1, 1, 0, 1,\n",
              "       1, 1, 1, 1, 1, 1, 1, 0, 0, 0, 1, 0, 0, 1, 1, 1, 0, 0, 1, 0, 1, 0,\n",
              "       0, 1, 0, 0, 1, 1, 0, 1, 1, 0, 1, 1, 1, 1, 0, 1, 1, 1, 1, 1, 1, 1,\n",
              "       1, 1, 0, 1, 1, 1, 1, 0, 0, 1, 0, 1, 1, 0, 0, 1, 1, 0, 0, 1, 1, 1,\n",
              "       1, 0, 1, 1, 0, 0, 0, 1, 0, 1, 0, 1, 1, 1, 0, 1, 1, 0, 0, 1, 0, 0,\n",
              "       0, 0, 1, 0, 0, 0, 1, 0, 1, 0, 1, 1, 0, 1, 0, 0, 0, 0, 1, 1, 0, 0,\n",
              "       1, 1, 1, 0, 1, 1, 1, 1, 1, 0, 0, 1, 1, 0, 1, 1, 0, 0, 1, 0, 1, 1,\n",
              "       1, 1, 0, 1, 1, 1, 1, 1, 0, 1, 0, 0, 0, 0, 0, 0, 0, 0, 0, 0, 0, 0,\n",
              "       0, 0, 1, 1, 1, 1, 1, 1, 0, 1, 0, 1, 1, 0, 1, 1, 0, 1, 0, 0, 1, 1,\n",
              "       1, 1, 1, 1, 1, 1, 1, 1, 1, 1, 1, 0, 1, 1, 0, 1, 0, 1, 1, 1, 1, 1,\n",
              "       1, 1, 1, 1, 1, 1, 1, 1, 1, 0, 1, 1, 1, 0, 1, 0, 1, 1, 1, 1, 0, 0,\n",
              "       0, 1, 1, 1, 1, 0, 1, 0, 1, 0, 1, 1, 1, 0, 1, 1, 1, 1, 1, 1, 1, 0,\n",
              "       0, 0, 1, 1, 1, 1, 1, 1, 1, 1, 1, 1, 1, 0, 0, 1, 0, 0, 0, 1, 0, 0,\n",
              "       1, 1, 1, 1, 1, 0, 1, 1, 1, 1, 1, 0, 1, 1, 1, 0, 1, 1, 0, 0, 1, 1,\n",
              "       1, 1, 1, 1, 0, 1, 1, 1, 1, 1, 1, 1, 0, 1, 1, 1, 1, 1, 0, 1, 1, 0,\n",
              "       1, 1, 1, 1, 1, 1, 1, 1, 1, 1, 1, 1, 0, 1, 0, 0, 1, 0, 1, 1, 1, 1,\n",
              "       1, 0, 1, 1, 0, 1, 0, 1, 1, 0, 1, 0, 1, 1, 1, 1, 1, 1, 1, 1, 0, 0,\n",
              "       1, 1, 1, 1, 1, 1, 0, 1, 1, 1, 1, 1, 1, 1, 1, 1, 1, 0, 1, 1, 1, 1,\n",
              "       1, 1, 1, 0, 1, 0, 1, 1, 0, 1, 1, 1, 1, 1, 0, 0, 1, 0, 1, 0, 1, 1,\n",
              "       1, 1, 1, 0, 1, 1, 0, 1, 0, 1, 0, 0, 1, 1, 1, 0, 1, 1, 1, 1, 1, 1,\n",
              "       1, 1, 1, 1, 1, 0, 1, 0, 0, 1, 1, 1, 1, 1, 1, 1, 1, 1, 1, 1, 1, 1,\n",
              "       1, 1, 1, 1, 1, 1, 1, 1, 1, 1, 1, 1, 0, 0, 0, 0, 0, 0, 1])"
            ]
          },
          "metadata": {},
          "execution_count": 5
        }
      ],
      "source": [
        "#loading the labels of the dataset (1 means you get malignant cancer 0 a benign cancer)\n",
        "breast_labels = breast.target\n",
        "breast_labels"
      ]
    },
    {
      "cell_type": "code",
      "execution_count": 6,
      "id": "a730bc55",
      "metadata": {
        "lines_to_next_cell": 0,
        "colab": {
          "base_uri": "https://localhost:8080/"
        },
        "id": "a730bc55",
        "outputId": "a687c9ad-131b-48c2-a6d2-0e1f20e969ba"
      },
      "outputs": [
        {
          "output_type": "execute_result",
          "data": {
            "text/plain": [
              "(569,)"
            ]
          },
          "metadata": {},
          "execution_count": 6
        }
      ],
      "source": [
        "breast_labels.shape\n"
      ]
    },
    {
      "cell_type": "markdown",
      "id": "b827618d",
      "metadata": {
        "id": "b827618d"
      },
      "source": [
        "Reshape the ``breast_labels`` to concatenate it with the ``breast_data`` to create a ``DataFrame`` which will have both the data and labels."
      ]
    },
    {
      "cell_type": "code",
      "execution_count": 7,
      "id": "4a7e41b3",
      "metadata": {
        "id": "4a7e41b3"
      },
      "outputs": [],
      "source": [
        "labels = np.reshape(breast_labels,(569,1))"
      ]
    },
    {
      "cell_type": "markdown",
      "id": "259af936",
      "metadata": {
        "id": "259af936"
      },
      "source": [
        "After ``reshaping`` the labels, we ``concatenate`` the data and labels along the second axis, which means the final shape of the array will be ``569 x 31``."
      ]
    },
    {
      "cell_type": "code",
      "execution_count": 8,
      "id": "38f4c859",
      "metadata": {
        "lines_to_next_cell": 2,
        "id": "38f4c859"
      },
      "outputs": [],
      "source": [
        "final_breast_data = np.concatenate([breast_data,labels],axis=1)"
      ]
    },
    {
      "cell_type": "code",
      "execution_count": 9,
      "id": "557b8b84",
      "metadata": {
        "lines_to_next_cell": 0,
        "colab": {
          "base_uri": "https://localhost:8080/"
        },
        "id": "557b8b84",
        "outputId": "b15d78bb-c05b-4739-ea08-fac14dc3a423"
      },
      "outputs": [
        {
          "output_type": "execute_result",
          "data": {
            "text/plain": [
              "(569, 31)"
            ]
          },
          "metadata": {},
          "execution_count": 9
        }
      ],
      "source": [
        "final_breast_data.shape"
      ]
    },
    {
      "cell_type": "code",
      "execution_count": 10,
      "id": "91592019",
      "metadata": {
        "id": "91592019"
      },
      "outputs": [],
      "source": [
        "#Conversion of our nparray dataset into a pandas dataframe\n",
        "\n",
        "breast_dataset = pd.DataFrame(final_breast_data)"
      ]
    },
    {
      "cell_type": "markdown",
      "id": "fd066b36",
      "metadata": {
        "id": "fd066b36"
      },
      "source": [
        "Let's quickly print the features that are there in the breast cancer dataset!\n"
      ]
    },
    {
      "cell_type": "code",
      "execution_count": 11,
      "id": "600d9cc4",
      "metadata": {
        "lines_to_next_cell": 2,
        "colab": {
          "base_uri": "https://localhost:8080/"
        },
        "id": "600d9cc4",
        "outputId": "17ebb238-fae9-4542-9878-439d43744610"
      },
      "outputs": [
        {
          "output_type": "execute_result",
          "data": {
            "text/plain": [
              "array(['mean radius', 'mean texture', 'mean perimeter', 'mean area',\n",
              "       'mean smoothness', 'mean compactness', 'mean concavity',\n",
              "       'mean concave points', 'mean symmetry', 'mean fractal dimension',\n",
              "       'radius error', 'texture error', 'perimeter error', 'area error',\n",
              "       'smoothness error', 'compactness error', 'concavity error',\n",
              "       'concave points error', 'symmetry error',\n",
              "       'fractal dimension error', 'worst radius', 'worst texture',\n",
              "       'worst perimeter', 'worst area', 'worst smoothness',\n",
              "       'worst compactness', 'worst concavity', 'worst concave points',\n",
              "       'worst symmetry', 'worst fractal dimension'], dtype='<U23')"
            ]
          },
          "metadata": {},
          "execution_count": 11
        }
      ],
      "source": [
        "#Preview the features thar are there in the breast cancer dataset\n",
        "features = breast.feature_names\n",
        "features"
      ]
    },
    {
      "cell_type": "markdown",
      "id": "36db27f6",
      "metadata": {
        "id": "36db27f6"
      },
      "source": [
        "On the previous preview (``features``), we can note that the ``label`` field is missing. Hence, we will have to manually add it to the ``features`` array since we will be equating this array with the column names of your ``breast_dataset`` dataframe.\n"
      ]
    },
    {
      "cell_type": "code",
      "execution_count": 12,
      "id": "4c07aa8a",
      "metadata": {
        "id": "4c07aa8a"
      },
      "outputs": [],
      "source": [
        "features_labels = np.append(features,'label')"
      ]
    },
    {
      "cell_type": "code",
      "execution_count": 13,
      "id": "e4becb40",
      "metadata": {
        "id": "e4becb40"
      },
      "outputs": [],
      "source": [
        "#embed the column names to the breast_dataset dataframe.\n",
        "breast_dataset.columns = features_labels"
      ]
    },
    {
      "cell_type": "code",
      "execution_count": 14,
      "id": "1442ea4c",
      "metadata": {
        "lines_to_next_cell": 0,
        "colab": {
          "base_uri": "https://localhost:8080/",
          "height": 471
        },
        "id": "1442ea4c",
        "outputId": "af8f45e5-6d64-4c33-9487-3accdf000e4c"
      },
      "outputs": [
        {
          "output_type": "execute_result",
          "data": {
            "text/plain": [
              "   mean radius  mean texture  mean perimeter  mean area  mean smoothness  \\\n",
              "0        17.99         10.38          122.80     1001.0          0.11840   \n",
              "1        20.57         17.77          132.90     1326.0          0.08474   \n",
              "2        19.69         21.25          130.00     1203.0          0.10960   \n",
              "3        11.42         20.38           77.58      386.1          0.14250   \n",
              "4        20.29         14.34          135.10     1297.0          0.10030   \n",
              "5        12.45         15.70           82.57      477.1          0.12780   \n",
              "6        18.25         19.98          119.60     1040.0          0.09463   \n",
              "7        13.71         20.83           90.20      577.9          0.11890   \n",
              "8        13.00         21.82           87.50      519.8          0.12730   \n",
              "9        12.46         24.04           83.97      475.9          0.11860   \n",
              "\n",
              "   mean compactness  mean concavity  mean concave points  mean symmetry  \\\n",
              "0           0.27760         0.30010              0.14710         0.2419   \n",
              "1           0.07864         0.08690              0.07017         0.1812   \n",
              "2           0.15990         0.19740              0.12790         0.2069   \n",
              "3           0.28390         0.24140              0.10520         0.2597   \n",
              "4           0.13280         0.19800              0.10430         0.1809   \n",
              "5           0.17000         0.15780              0.08089         0.2087   \n",
              "6           0.10900         0.11270              0.07400         0.1794   \n",
              "7           0.16450         0.09366              0.05985         0.2196   \n",
              "8           0.19320         0.18590              0.09353         0.2350   \n",
              "9           0.23960         0.22730              0.08543         0.2030   \n",
              "\n",
              "   mean fractal dimension  ...  worst texture  worst perimeter  worst area  \\\n",
              "0                 0.07871  ...          17.33           184.60      2019.0   \n",
              "1                 0.05667  ...          23.41           158.80      1956.0   \n",
              "2                 0.05999  ...          25.53           152.50      1709.0   \n",
              "3                 0.09744  ...          26.50            98.87       567.7   \n",
              "4                 0.05883  ...          16.67           152.20      1575.0   \n",
              "5                 0.07613  ...          23.75           103.40       741.6   \n",
              "6                 0.05742  ...          27.66           153.20      1606.0   \n",
              "7                 0.07451  ...          28.14           110.60       897.0   \n",
              "8                 0.07389  ...          30.73           106.20       739.3   \n",
              "9                 0.08243  ...          40.68            97.65       711.4   \n",
              "\n",
              "   worst smoothness  worst compactness  worst concavity  worst concave points  \\\n",
              "0            0.1622             0.6656           0.7119                0.2654   \n",
              "1            0.1238             0.1866           0.2416                0.1860   \n",
              "2            0.1444             0.4245           0.4504                0.2430   \n",
              "3            0.2098             0.8663           0.6869                0.2575   \n",
              "4            0.1374             0.2050           0.4000                0.1625   \n",
              "5            0.1791             0.5249           0.5355                0.1741   \n",
              "6            0.1442             0.2576           0.3784                0.1932   \n",
              "7            0.1654             0.3682           0.2678                0.1556   \n",
              "8            0.1703             0.5401           0.5390                0.2060   \n",
              "9            0.1853             1.0580           1.1050                0.2210   \n",
              "\n",
              "   worst symmetry  worst fractal dimension  label  \n",
              "0          0.4601                  0.11890    0.0  \n",
              "1          0.2750                  0.08902    0.0  \n",
              "2          0.3613                  0.08758    0.0  \n",
              "3          0.6638                  0.17300    0.0  \n",
              "4          0.2364                  0.07678    0.0  \n",
              "5          0.3985                  0.12440    0.0  \n",
              "6          0.3063                  0.08368    0.0  \n",
              "7          0.3196                  0.11510    0.0  \n",
              "8          0.4378                  0.10720    0.0  \n",
              "9          0.4366                  0.20750    0.0  \n",
              "\n",
              "[10 rows x 31 columns]"
            ],
            "text/html": [
              "\n",
              "  <div id=\"df-d09670bf-6c33-4567-b8a3-9454989c67a8\">\n",
              "    <div class=\"colab-df-container\">\n",
              "      <div>\n",
              "<style scoped>\n",
              "    .dataframe tbody tr th:only-of-type {\n",
              "        vertical-align: middle;\n",
              "    }\n",
              "\n",
              "    .dataframe tbody tr th {\n",
              "        vertical-align: top;\n",
              "    }\n",
              "\n",
              "    .dataframe thead th {\n",
              "        text-align: right;\n",
              "    }\n",
              "</style>\n",
              "<table border=\"1\" class=\"dataframe\">\n",
              "  <thead>\n",
              "    <tr style=\"text-align: right;\">\n",
              "      <th></th>\n",
              "      <th>mean radius</th>\n",
              "      <th>mean texture</th>\n",
              "      <th>mean perimeter</th>\n",
              "      <th>mean area</th>\n",
              "      <th>mean smoothness</th>\n",
              "      <th>mean compactness</th>\n",
              "      <th>mean concavity</th>\n",
              "      <th>mean concave points</th>\n",
              "      <th>mean symmetry</th>\n",
              "      <th>mean fractal dimension</th>\n",
              "      <th>...</th>\n",
              "      <th>worst texture</th>\n",
              "      <th>worst perimeter</th>\n",
              "      <th>worst area</th>\n",
              "      <th>worst smoothness</th>\n",
              "      <th>worst compactness</th>\n",
              "      <th>worst concavity</th>\n",
              "      <th>worst concave points</th>\n",
              "      <th>worst symmetry</th>\n",
              "      <th>worst fractal dimension</th>\n",
              "      <th>label</th>\n",
              "    </tr>\n",
              "  </thead>\n",
              "  <tbody>\n",
              "    <tr>\n",
              "      <th>0</th>\n",
              "      <td>17.99</td>\n",
              "      <td>10.38</td>\n",
              "      <td>122.80</td>\n",
              "      <td>1001.0</td>\n",
              "      <td>0.11840</td>\n",
              "      <td>0.27760</td>\n",
              "      <td>0.30010</td>\n",
              "      <td>0.14710</td>\n",
              "      <td>0.2419</td>\n",
              "      <td>0.07871</td>\n",
              "      <td>...</td>\n",
              "      <td>17.33</td>\n",
              "      <td>184.60</td>\n",
              "      <td>2019.0</td>\n",
              "      <td>0.1622</td>\n",
              "      <td>0.6656</td>\n",
              "      <td>0.7119</td>\n",
              "      <td>0.2654</td>\n",
              "      <td>0.4601</td>\n",
              "      <td>0.11890</td>\n",
              "      <td>0.0</td>\n",
              "    </tr>\n",
              "    <tr>\n",
              "      <th>1</th>\n",
              "      <td>20.57</td>\n",
              "      <td>17.77</td>\n",
              "      <td>132.90</td>\n",
              "      <td>1326.0</td>\n",
              "      <td>0.08474</td>\n",
              "      <td>0.07864</td>\n",
              "      <td>0.08690</td>\n",
              "      <td>0.07017</td>\n",
              "      <td>0.1812</td>\n",
              "      <td>0.05667</td>\n",
              "      <td>...</td>\n",
              "      <td>23.41</td>\n",
              "      <td>158.80</td>\n",
              "      <td>1956.0</td>\n",
              "      <td>0.1238</td>\n",
              "      <td>0.1866</td>\n",
              "      <td>0.2416</td>\n",
              "      <td>0.1860</td>\n",
              "      <td>0.2750</td>\n",
              "      <td>0.08902</td>\n",
              "      <td>0.0</td>\n",
              "    </tr>\n",
              "    <tr>\n",
              "      <th>2</th>\n",
              "      <td>19.69</td>\n",
              "      <td>21.25</td>\n",
              "      <td>130.00</td>\n",
              "      <td>1203.0</td>\n",
              "      <td>0.10960</td>\n",
              "      <td>0.15990</td>\n",
              "      <td>0.19740</td>\n",
              "      <td>0.12790</td>\n",
              "      <td>0.2069</td>\n",
              "      <td>0.05999</td>\n",
              "      <td>...</td>\n",
              "      <td>25.53</td>\n",
              "      <td>152.50</td>\n",
              "      <td>1709.0</td>\n",
              "      <td>0.1444</td>\n",
              "      <td>0.4245</td>\n",
              "      <td>0.4504</td>\n",
              "      <td>0.2430</td>\n",
              "      <td>0.3613</td>\n",
              "      <td>0.08758</td>\n",
              "      <td>0.0</td>\n",
              "    </tr>\n",
              "    <tr>\n",
              "      <th>3</th>\n",
              "      <td>11.42</td>\n",
              "      <td>20.38</td>\n",
              "      <td>77.58</td>\n",
              "      <td>386.1</td>\n",
              "      <td>0.14250</td>\n",
              "      <td>0.28390</td>\n",
              "      <td>0.24140</td>\n",
              "      <td>0.10520</td>\n",
              "      <td>0.2597</td>\n",
              "      <td>0.09744</td>\n",
              "      <td>...</td>\n",
              "      <td>26.50</td>\n",
              "      <td>98.87</td>\n",
              "      <td>567.7</td>\n",
              "      <td>0.2098</td>\n",
              "      <td>0.8663</td>\n",
              "      <td>0.6869</td>\n",
              "      <td>0.2575</td>\n",
              "      <td>0.6638</td>\n",
              "      <td>0.17300</td>\n",
              "      <td>0.0</td>\n",
              "    </tr>\n",
              "    <tr>\n",
              "      <th>4</th>\n",
              "      <td>20.29</td>\n",
              "      <td>14.34</td>\n",
              "      <td>135.10</td>\n",
              "      <td>1297.0</td>\n",
              "      <td>0.10030</td>\n",
              "      <td>0.13280</td>\n",
              "      <td>0.19800</td>\n",
              "      <td>0.10430</td>\n",
              "      <td>0.1809</td>\n",
              "      <td>0.05883</td>\n",
              "      <td>...</td>\n",
              "      <td>16.67</td>\n",
              "      <td>152.20</td>\n",
              "      <td>1575.0</td>\n",
              "      <td>0.1374</td>\n",
              "      <td>0.2050</td>\n",
              "      <td>0.4000</td>\n",
              "      <td>0.1625</td>\n",
              "      <td>0.2364</td>\n",
              "      <td>0.07678</td>\n",
              "      <td>0.0</td>\n",
              "    </tr>\n",
              "    <tr>\n",
              "      <th>5</th>\n",
              "      <td>12.45</td>\n",
              "      <td>15.70</td>\n",
              "      <td>82.57</td>\n",
              "      <td>477.1</td>\n",
              "      <td>0.12780</td>\n",
              "      <td>0.17000</td>\n",
              "      <td>0.15780</td>\n",
              "      <td>0.08089</td>\n",
              "      <td>0.2087</td>\n",
              "      <td>0.07613</td>\n",
              "      <td>...</td>\n",
              "      <td>23.75</td>\n",
              "      <td>103.40</td>\n",
              "      <td>741.6</td>\n",
              "      <td>0.1791</td>\n",
              "      <td>0.5249</td>\n",
              "      <td>0.5355</td>\n",
              "      <td>0.1741</td>\n",
              "      <td>0.3985</td>\n",
              "      <td>0.12440</td>\n",
              "      <td>0.0</td>\n",
              "    </tr>\n",
              "    <tr>\n",
              "      <th>6</th>\n",
              "      <td>18.25</td>\n",
              "      <td>19.98</td>\n",
              "      <td>119.60</td>\n",
              "      <td>1040.0</td>\n",
              "      <td>0.09463</td>\n",
              "      <td>0.10900</td>\n",
              "      <td>0.11270</td>\n",
              "      <td>0.07400</td>\n",
              "      <td>0.1794</td>\n",
              "      <td>0.05742</td>\n",
              "      <td>...</td>\n",
              "      <td>27.66</td>\n",
              "      <td>153.20</td>\n",
              "      <td>1606.0</td>\n",
              "      <td>0.1442</td>\n",
              "      <td>0.2576</td>\n",
              "      <td>0.3784</td>\n",
              "      <td>0.1932</td>\n",
              "      <td>0.3063</td>\n",
              "      <td>0.08368</td>\n",
              "      <td>0.0</td>\n",
              "    </tr>\n",
              "    <tr>\n",
              "      <th>7</th>\n",
              "      <td>13.71</td>\n",
              "      <td>20.83</td>\n",
              "      <td>90.20</td>\n",
              "      <td>577.9</td>\n",
              "      <td>0.11890</td>\n",
              "      <td>0.16450</td>\n",
              "      <td>0.09366</td>\n",
              "      <td>0.05985</td>\n",
              "      <td>0.2196</td>\n",
              "      <td>0.07451</td>\n",
              "      <td>...</td>\n",
              "      <td>28.14</td>\n",
              "      <td>110.60</td>\n",
              "      <td>897.0</td>\n",
              "      <td>0.1654</td>\n",
              "      <td>0.3682</td>\n",
              "      <td>0.2678</td>\n",
              "      <td>0.1556</td>\n",
              "      <td>0.3196</td>\n",
              "      <td>0.11510</td>\n",
              "      <td>0.0</td>\n",
              "    </tr>\n",
              "    <tr>\n",
              "      <th>8</th>\n",
              "      <td>13.00</td>\n",
              "      <td>21.82</td>\n",
              "      <td>87.50</td>\n",
              "      <td>519.8</td>\n",
              "      <td>0.12730</td>\n",
              "      <td>0.19320</td>\n",
              "      <td>0.18590</td>\n",
              "      <td>0.09353</td>\n",
              "      <td>0.2350</td>\n",
              "      <td>0.07389</td>\n",
              "      <td>...</td>\n",
              "      <td>30.73</td>\n",
              "      <td>106.20</td>\n",
              "      <td>739.3</td>\n",
              "      <td>0.1703</td>\n",
              "      <td>0.5401</td>\n",
              "      <td>0.5390</td>\n",
              "      <td>0.2060</td>\n",
              "      <td>0.4378</td>\n",
              "      <td>0.10720</td>\n",
              "      <td>0.0</td>\n",
              "    </tr>\n",
              "    <tr>\n",
              "      <th>9</th>\n",
              "      <td>12.46</td>\n",
              "      <td>24.04</td>\n",
              "      <td>83.97</td>\n",
              "      <td>475.9</td>\n",
              "      <td>0.11860</td>\n",
              "      <td>0.23960</td>\n",
              "      <td>0.22730</td>\n",
              "      <td>0.08543</td>\n",
              "      <td>0.2030</td>\n",
              "      <td>0.08243</td>\n",
              "      <td>...</td>\n",
              "      <td>40.68</td>\n",
              "      <td>97.65</td>\n",
              "      <td>711.4</td>\n",
              "      <td>0.1853</td>\n",
              "      <td>1.0580</td>\n",
              "      <td>1.1050</td>\n",
              "      <td>0.2210</td>\n",
              "      <td>0.4366</td>\n",
              "      <td>0.20750</td>\n",
              "      <td>0.0</td>\n",
              "    </tr>\n",
              "  </tbody>\n",
              "</table>\n",
              "<p>10 rows × 31 columns</p>\n",
              "</div>\n",
              "      <button class=\"colab-df-convert\" onclick=\"convertToInteractive('df-d09670bf-6c33-4567-b8a3-9454989c67a8')\"\n",
              "              title=\"Convert this dataframe to an interactive table.\"\n",
              "              style=\"display:none;\">\n",
              "        \n",
              "  <svg xmlns=\"http://www.w3.org/2000/svg\" height=\"24px\"viewBox=\"0 0 24 24\"\n",
              "       width=\"24px\">\n",
              "    <path d=\"M0 0h24v24H0V0z\" fill=\"none\"/>\n",
              "    <path d=\"M18.56 5.44l.94 2.06.94-2.06 2.06-.94-2.06-.94-.94-2.06-.94 2.06-2.06.94zm-11 1L8.5 8.5l.94-2.06 2.06-.94-2.06-.94L8.5 2.5l-.94 2.06-2.06.94zm10 10l.94 2.06.94-2.06 2.06-.94-2.06-.94-.94-2.06-.94 2.06-2.06.94z\"/><path d=\"M17.41 7.96l-1.37-1.37c-.4-.4-.92-.59-1.43-.59-.52 0-1.04.2-1.43.59L10.3 9.45l-7.72 7.72c-.78.78-.78 2.05 0 2.83L4 21.41c.39.39.9.59 1.41.59.51 0 1.02-.2 1.41-.59l7.78-7.78 2.81-2.81c.8-.78.8-2.07 0-2.86zM5.41 20L4 18.59l7.72-7.72 1.47 1.35L5.41 20z\"/>\n",
              "  </svg>\n",
              "      </button>\n",
              "      \n",
              "  <style>\n",
              "    .colab-df-container {\n",
              "      display:flex;\n",
              "      flex-wrap:wrap;\n",
              "      gap: 12px;\n",
              "    }\n",
              "\n",
              "    .colab-df-convert {\n",
              "      background-color: #E8F0FE;\n",
              "      border: none;\n",
              "      border-radius: 50%;\n",
              "      cursor: pointer;\n",
              "      display: none;\n",
              "      fill: #1967D2;\n",
              "      height: 32px;\n",
              "      padding: 0 0 0 0;\n",
              "      width: 32px;\n",
              "    }\n",
              "\n",
              "    .colab-df-convert:hover {\n",
              "      background-color: #E2EBFA;\n",
              "      box-shadow: 0px 1px 2px rgba(60, 64, 67, 0.3), 0px 1px 3px 1px rgba(60, 64, 67, 0.15);\n",
              "      fill: #174EA6;\n",
              "    }\n",
              "\n",
              "    [theme=dark] .colab-df-convert {\n",
              "      background-color: #3B4455;\n",
              "      fill: #D2E3FC;\n",
              "    }\n",
              "\n",
              "    [theme=dark] .colab-df-convert:hover {\n",
              "      background-color: #434B5C;\n",
              "      box-shadow: 0px 1px 3px 1px rgba(0, 0, 0, 0.15);\n",
              "      filter: drop-shadow(0px 1px 2px rgba(0, 0, 0, 0.3));\n",
              "      fill: #FFFFFF;\n",
              "    }\n",
              "  </style>\n",
              "\n",
              "      <script>\n",
              "        const buttonEl =\n",
              "          document.querySelector('#df-d09670bf-6c33-4567-b8a3-9454989c67a8 button.colab-df-convert');\n",
              "        buttonEl.style.display =\n",
              "          google.colab.kernel.accessAllowed ? 'block' : 'none';\n",
              "\n",
              "        async function convertToInteractive(key) {\n",
              "          const element = document.querySelector('#df-d09670bf-6c33-4567-b8a3-9454989c67a8');\n",
              "          const dataTable =\n",
              "            await google.colab.kernel.invokeFunction('convertToInteractive',\n",
              "                                                     [key], {});\n",
              "          if (!dataTable) return;\n",
              "\n",
              "          const docLinkHtml = 'Like what you see? Visit the ' +\n",
              "            '<a target=\"_blank\" href=https://colab.research.google.com/notebooks/data_table.ipynb>data table notebook</a>'\n",
              "            + ' to learn more about interactive tables.';\n",
              "          element.innerHTML = '';\n",
              "          dataTable['output_type'] = 'display_data';\n",
              "          await google.colab.output.renderOutput(dataTable, element);\n",
              "          const docLink = document.createElement('div');\n",
              "          docLink.innerHTML = docLinkHtml;\n",
              "          element.appendChild(docLink);\n",
              "        }\n",
              "      </script>\n",
              "    </div>\n",
              "  </div>\n",
              "  "
            ]
          },
          "metadata": {},
          "execution_count": 14
        }
      ],
      "source": [
        "#preview the current dataframe shape\n",
        "breast_dataset.head(10)"
      ]
    },
    {
      "cell_type": "markdown",
      "id": "1aa6af26",
      "metadata": {
        "id": "1aa6af26"
      },
      "source": [
        "Since the original labels are in ``0,1`` format, we changed the labels to ``benign`` and ``malignant`` using ``.replace`` function. We will use ``inplace=True`` which will modify the dataframe ``breast_dataset``.\n"
      ]
    },
    {
      "cell_type": "code",
      "execution_count": 15,
      "id": "197ea41a",
      "metadata": {
        "id": "197ea41a"
      },
      "outputs": [],
      "source": [
        "breast_dataset['label'].replace(0, 'Benign',inplace=True)\n",
        "breast_dataset['label'].replace(1, 'Malignant',inplace=True)"
      ]
    },
    {
      "cell_type": "markdown",
      "id": "d0cb17ae",
      "metadata": {
        "id": "d0cb17ae"
      },
      "source": [
        "Let's print the last few rows of the ``breast_dataset``.\n"
      ]
    },
    {
      "cell_type": "code",
      "execution_count": 16,
      "id": "bbb342a2",
      "metadata": {
        "lines_to_next_cell": 0,
        "colab": {
          "base_uri": "https://localhost:8080/",
          "height": 471
        },
        "id": "bbb342a2",
        "outputId": "7861950f-1e8e-4efc-cbf8-2a144f037fad"
      },
      "outputs": [
        {
          "output_type": "execute_result",
          "data": {
            "text/plain": [
              "     mean radius  mean texture  mean perimeter  mean area  mean smoothness  \\\n",
              "559        11.51         23.93           74.52      403.5          0.09261   \n",
              "560        14.05         27.15           91.38      600.4          0.09929   \n",
              "561        11.20         29.37           70.67      386.0          0.07449   \n",
              "562        15.22         30.62          103.40      716.9          0.10480   \n",
              "563        20.92         25.09          143.00     1347.0          0.10990   \n",
              "564        21.56         22.39          142.00     1479.0          0.11100   \n",
              "565        20.13         28.25          131.20     1261.0          0.09780   \n",
              "566        16.60         28.08          108.30      858.1          0.08455   \n",
              "567        20.60         29.33          140.10     1265.0          0.11780   \n",
              "568         7.76         24.54           47.92      181.0          0.05263   \n",
              "\n",
              "     mean compactness  mean concavity  mean concave points  mean symmetry  \\\n",
              "559           0.10210         0.11120              0.04105         0.1388   \n",
              "560           0.11260         0.04462              0.04304         0.1537   \n",
              "561           0.03558         0.00000              0.00000         0.1060   \n",
              "562           0.20870         0.25500              0.09429         0.2128   \n",
              "563           0.22360         0.31740              0.14740         0.2149   \n",
              "564           0.11590         0.24390              0.13890         0.1726   \n",
              "565           0.10340         0.14400              0.09791         0.1752   \n",
              "566           0.10230         0.09251              0.05302         0.1590   \n",
              "567           0.27700         0.35140              0.15200         0.2397   \n",
              "568           0.04362         0.00000              0.00000         0.1587   \n",
              "\n",
              "     mean fractal dimension  ...  worst texture  worst perimeter  worst area  \\\n",
              "559                 0.06570  ...          37.16            82.28       474.2   \n",
              "560                 0.06171  ...          33.17           100.20       706.7   \n",
              "561                 0.05502  ...          38.30            75.19       439.6   \n",
              "562                 0.07152  ...          42.79           128.70       915.0   \n",
              "563                 0.06879  ...          29.41           179.10      1819.0   \n",
              "564                 0.05623  ...          26.40           166.10      2027.0   \n",
              "565                 0.05533  ...          38.25           155.00      1731.0   \n",
              "566                 0.05648  ...          34.12           126.70      1124.0   \n",
              "567                 0.07016  ...          39.42           184.60      1821.0   \n",
              "568                 0.05884  ...          30.37            59.16       268.6   \n",
              "\n",
              "     worst smoothness  worst compactness  worst concavity  \\\n",
              "559           0.12980            0.25170           0.3630   \n",
              "560           0.12410            0.22640           0.1326   \n",
              "561           0.09267            0.05494           0.0000   \n",
              "562           0.14170            0.79170           1.1700   \n",
              "563           0.14070            0.41860           0.6599   \n",
              "564           0.14100            0.21130           0.4107   \n",
              "565           0.11660            0.19220           0.3215   \n",
              "566           0.11390            0.30940           0.3403   \n",
              "567           0.16500            0.86810           0.9387   \n",
              "568           0.08996            0.06444           0.0000   \n",
              "\n",
              "     worst concave points  worst symmetry  worst fractal dimension      label  \n",
              "559               0.09653          0.2112                  0.08732  Malignant  \n",
              "560               0.10480          0.2250                  0.08321  Malignant  \n",
              "561               0.00000          0.1566                  0.05905  Malignant  \n",
              "562               0.23560          0.4089                  0.14090     Benign  \n",
              "563               0.25420          0.2929                  0.09873     Benign  \n",
              "564               0.22160          0.2060                  0.07115     Benign  \n",
              "565               0.16280          0.2572                  0.06637     Benign  \n",
              "566               0.14180          0.2218                  0.07820     Benign  \n",
              "567               0.26500          0.4087                  0.12400     Benign  \n",
              "568               0.00000          0.2871                  0.07039  Malignant  \n",
              "\n",
              "[10 rows x 31 columns]"
            ],
            "text/html": [
              "\n",
              "  <div id=\"df-b5366eeb-b3f2-464d-9278-8610807ffbf5\">\n",
              "    <div class=\"colab-df-container\">\n",
              "      <div>\n",
              "<style scoped>\n",
              "    .dataframe tbody tr th:only-of-type {\n",
              "        vertical-align: middle;\n",
              "    }\n",
              "\n",
              "    .dataframe tbody tr th {\n",
              "        vertical-align: top;\n",
              "    }\n",
              "\n",
              "    .dataframe thead th {\n",
              "        text-align: right;\n",
              "    }\n",
              "</style>\n",
              "<table border=\"1\" class=\"dataframe\">\n",
              "  <thead>\n",
              "    <tr style=\"text-align: right;\">\n",
              "      <th></th>\n",
              "      <th>mean radius</th>\n",
              "      <th>mean texture</th>\n",
              "      <th>mean perimeter</th>\n",
              "      <th>mean area</th>\n",
              "      <th>mean smoothness</th>\n",
              "      <th>mean compactness</th>\n",
              "      <th>mean concavity</th>\n",
              "      <th>mean concave points</th>\n",
              "      <th>mean symmetry</th>\n",
              "      <th>mean fractal dimension</th>\n",
              "      <th>...</th>\n",
              "      <th>worst texture</th>\n",
              "      <th>worst perimeter</th>\n",
              "      <th>worst area</th>\n",
              "      <th>worst smoothness</th>\n",
              "      <th>worst compactness</th>\n",
              "      <th>worst concavity</th>\n",
              "      <th>worst concave points</th>\n",
              "      <th>worst symmetry</th>\n",
              "      <th>worst fractal dimension</th>\n",
              "      <th>label</th>\n",
              "    </tr>\n",
              "  </thead>\n",
              "  <tbody>\n",
              "    <tr>\n",
              "      <th>559</th>\n",
              "      <td>11.51</td>\n",
              "      <td>23.93</td>\n",
              "      <td>74.52</td>\n",
              "      <td>403.5</td>\n",
              "      <td>0.09261</td>\n",
              "      <td>0.10210</td>\n",
              "      <td>0.11120</td>\n",
              "      <td>0.04105</td>\n",
              "      <td>0.1388</td>\n",
              "      <td>0.06570</td>\n",
              "      <td>...</td>\n",
              "      <td>37.16</td>\n",
              "      <td>82.28</td>\n",
              "      <td>474.2</td>\n",
              "      <td>0.12980</td>\n",
              "      <td>0.25170</td>\n",
              "      <td>0.3630</td>\n",
              "      <td>0.09653</td>\n",
              "      <td>0.2112</td>\n",
              "      <td>0.08732</td>\n",
              "      <td>Malignant</td>\n",
              "    </tr>\n",
              "    <tr>\n",
              "      <th>560</th>\n",
              "      <td>14.05</td>\n",
              "      <td>27.15</td>\n",
              "      <td>91.38</td>\n",
              "      <td>600.4</td>\n",
              "      <td>0.09929</td>\n",
              "      <td>0.11260</td>\n",
              "      <td>0.04462</td>\n",
              "      <td>0.04304</td>\n",
              "      <td>0.1537</td>\n",
              "      <td>0.06171</td>\n",
              "      <td>...</td>\n",
              "      <td>33.17</td>\n",
              "      <td>100.20</td>\n",
              "      <td>706.7</td>\n",
              "      <td>0.12410</td>\n",
              "      <td>0.22640</td>\n",
              "      <td>0.1326</td>\n",
              "      <td>0.10480</td>\n",
              "      <td>0.2250</td>\n",
              "      <td>0.08321</td>\n",
              "      <td>Malignant</td>\n",
              "    </tr>\n",
              "    <tr>\n",
              "      <th>561</th>\n",
              "      <td>11.20</td>\n",
              "      <td>29.37</td>\n",
              "      <td>70.67</td>\n",
              "      <td>386.0</td>\n",
              "      <td>0.07449</td>\n",
              "      <td>0.03558</td>\n",
              "      <td>0.00000</td>\n",
              "      <td>0.00000</td>\n",
              "      <td>0.1060</td>\n",
              "      <td>0.05502</td>\n",
              "      <td>...</td>\n",
              "      <td>38.30</td>\n",
              "      <td>75.19</td>\n",
              "      <td>439.6</td>\n",
              "      <td>0.09267</td>\n",
              "      <td>0.05494</td>\n",
              "      <td>0.0000</td>\n",
              "      <td>0.00000</td>\n",
              "      <td>0.1566</td>\n",
              "      <td>0.05905</td>\n",
              "      <td>Malignant</td>\n",
              "    </tr>\n",
              "    <tr>\n",
              "      <th>562</th>\n",
              "      <td>15.22</td>\n",
              "      <td>30.62</td>\n",
              "      <td>103.40</td>\n",
              "      <td>716.9</td>\n",
              "      <td>0.10480</td>\n",
              "      <td>0.20870</td>\n",
              "      <td>0.25500</td>\n",
              "      <td>0.09429</td>\n",
              "      <td>0.2128</td>\n",
              "      <td>0.07152</td>\n",
              "      <td>...</td>\n",
              "      <td>42.79</td>\n",
              "      <td>128.70</td>\n",
              "      <td>915.0</td>\n",
              "      <td>0.14170</td>\n",
              "      <td>0.79170</td>\n",
              "      <td>1.1700</td>\n",
              "      <td>0.23560</td>\n",
              "      <td>0.4089</td>\n",
              "      <td>0.14090</td>\n",
              "      <td>Benign</td>\n",
              "    </tr>\n",
              "    <tr>\n",
              "      <th>563</th>\n",
              "      <td>20.92</td>\n",
              "      <td>25.09</td>\n",
              "      <td>143.00</td>\n",
              "      <td>1347.0</td>\n",
              "      <td>0.10990</td>\n",
              "      <td>0.22360</td>\n",
              "      <td>0.31740</td>\n",
              "      <td>0.14740</td>\n",
              "      <td>0.2149</td>\n",
              "      <td>0.06879</td>\n",
              "      <td>...</td>\n",
              "      <td>29.41</td>\n",
              "      <td>179.10</td>\n",
              "      <td>1819.0</td>\n",
              "      <td>0.14070</td>\n",
              "      <td>0.41860</td>\n",
              "      <td>0.6599</td>\n",
              "      <td>0.25420</td>\n",
              "      <td>0.2929</td>\n",
              "      <td>0.09873</td>\n",
              "      <td>Benign</td>\n",
              "    </tr>\n",
              "    <tr>\n",
              "      <th>564</th>\n",
              "      <td>21.56</td>\n",
              "      <td>22.39</td>\n",
              "      <td>142.00</td>\n",
              "      <td>1479.0</td>\n",
              "      <td>0.11100</td>\n",
              "      <td>0.11590</td>\n",
              "      <td>0.24390</td>\n",
              "      <td>0.13890</td>\n",
              "      <td>0.1726</td>\n",
              "      <td>0.05623</td>\n",
              "      <td>...</td>\n",
              "      <td>26.40</td>\n",
              "      <td>166.10</td>\n",
              "      <td>2027.0</td>\n",
              "      <td>0.14100</td>\n",
              "      <td>0.21130</td>\n",
              "      <td>0.4107</td>\n",
              "      <td>0.22160</td>\n",
              "      <td>0.2060</td>\n",
              "      <td>0.07115</td>\n",
              "      <td>Benign</td>\n",
              "    </tr>\n",
              "    <tr>\n",
              "      <th>565</th>\n",
              "      <td>20.13</td>\n",
              "      <td>28.25</td>\n",
              "      <td>131.20</td>\n",
              "      <td>1261.0</td>\n",
              "      <td>0.09780</td>\n",
              "      <td>0.10340</td>\n",
              "      <td>0.14400</td>\n",
              "      <td>0.09791</td>\n",
              "      <td>0.1752</td>\n",
              "      <td>0.05533</td>\n",
              "      <td>...</td>\n",
              "      <td>38.25</td>\n",
              "      <td>155.00</td>\n",
              "      <td>1731.0</td>\n",
              "      <td>0.11660</td>\n",
              "      <td>0.19220</td>\n",
              "      <td>0.3215</td>\n",
              "      <td>0.16280</td>\n",
              "      <td>0.2572</td>\n",
              "      <td>0.06637</td>\n",
              "      <td>Benign</td>\n",
              "    </tr>\n",
              "    <tr>\n",
              "      <th>566</th>\n",
              "      <td>16.60</td>\n",
              "      <td>28.08</td>\n",
              "      <td>108.30</td>\n",
              "      <td>858.1</td>\n",
              "      <td>0.08455</td>\n",
              "      <td>0.10230</td>\n",
              "      <td>0.09251</td>\n",
              "      <td>0.05302</td>\n",
              "      <td>0.1590</td>\n",
              "      <td>0.05648</td>\n",
              "      <td>...</td>\n",
              "      <td>34.12</td>\n",
              "      <td>126.70</td>\n",
              "      <td>1124.0</td>\n",
              "      <td>0.11390</td>\n",
              "      <td>0.30940</td>\n",
              "      <td>0.3403</td>\n",
              "      <td>0.14180</td>\n",
              "      <td>0.2218</td>\n",
              "      <td>0.07820</td>\n",
              "      <td>Benign</td>\n",
              "    </tr>\n",
              "    <tr>\n",
              "      <th>567</th>\n",
              "      <td>20.60</td>\n",
              "      <td>29.33</td>\n",
              "      <td>140.10</td>\n",
              "      <td>1265.0</td>\n",
              "      <td>0.11780</td>\n",
              "      <td>0.27700</td>\n",
              "      <td>0.35140</td>\n",
              "      <td>0.15200</td>\n",
              "      <td>0.2397</td>\n",
              "      <td>0.07016</td>\n",
              "      <td>...</td>\n",
              "      <td>39.42</td>\n",
              "      <td>184.60</td>\n",
              "      <td>1821.0</td>\n",
              "      <td>0.16500</td>\n",
              "      <td>0.86810</td>\n",
              "      <td>0.9387</td>\n",
              "      <td>0.26500</td>\n",
              "      <td>0.4087</td>\n",
              "      <td>0.12400</td>\n",
              "      <td>Benign</td>\n",
              "    </tr>\n",
              "    <tr>\n",
              "      <th>568</th>\n",
              "      <td>7.76</td>\n",
              "      <td>24.54</td>\n",
              "      <td>47.92</td>\n",
              "      <td>181.0</td>\n",
              "      <td>0.05263</td>\n",
              "      <td>0.04362</td>\n",
              "      <td>0.00000</td>\n",
              "      <td>0.00000</td>\n",
              "      <td>0.1587</td>\n",
              "      <td>0.05884</td>\n",
              "      <td>...</td>\n",
              "      <td>30.37</td>\n",
              "      <td>59.16</td>\n",
              "      <td>268.6</td>\n",
              "      <td>0.08996</td>\n",
              "      <td>0.06444</td>\n",
              "      <td>0.0000</td>\n",
              "      <td>0.00000</td>\n",
              "      <td>0.2871</td>\n",
              "      <td>0.07039</td>\n",
              "      <td>Malignant</td>\n",
              "    </tr>\n",
              "  </tbody>\n",
              "</table>\n",
              "<p>10 rows × 31 columns</p>\n",
              "</div>\n",
              "      <button class=\"colab-df-convert\" onclick=\"convertToInteractive('df-b5366eeb-b3f2-464d-9278-8610807ffbf5')\"\n",
              "              title=\"Convert this dataframe to an interactive table.\"\n",
              "              style=\"display:none;\">\n",
              "        \n",
              "  <svg xmlns=\"http://www.w3.org/2000/svg\" height=\"24px\"viewBox=\"0 0 24 24\"\n",
              "       width=\"24px\">\n",
              "    <path d=\"M0 0h24v24H0V0z\" fill=\"none\"/>\n",
              "    <path d=\"M18.56 5.44l.94 2.06.94-2.06 2.06-.94-2.06-.94-.94-2.06-.94 2.06-2.06.94zm-11 1L8.5 8.5l.94-2.06 2.06-.94-2.06-.94L8.5 2.5l-.94 2.06-2.06.94zm10 10l.94 2.06.94-2.06 2.06-.94-2.06-.94-.94-2.06-.94 2.06-2.06.94z\"/><path d=\"M17.41 7.96l-1.37-1.37c-.4-.4-.92-.59-1.43-.59-.52 0-1.04.2-1.43.59L10.3 9.45l-7.72 7.72c-.78.78-.78 2.05 0 2.83L4 21.41c.39.39.9.59 1.41.59.51 0 1.02-.2 1.41-.59l7.78-7.78 2.81-2.81c.8-.78.8-2.07 0-2.86zM5.41 20L4 18.59l7.72-7.72 1.47 1.35L5.41 20z\"/>\n",
              "  </svg>\n",
              "      </button>\n",
              "      \n",
              "  <style>\n",
              "    .colab-df-container {\n",
              "      display:flex;\n",
              "      flex-wrap:wrap;\n",
              "      gap: 12px;\n",
              "    }\n",
              "\n",
              "    .colab-df-convert {\n",
              "      background-color: #E8F0FE;\n",
              "      border: none;\n",
              "      border-radius: 50%;\n",
              "      cursor: pointer;\n",
              "      display: none;\n",
              "      fill: #1967D2;\n",
              "      height: 32px;\n",
              "      padding: 0 0 0 0;\n",
              "      width: 32px;\n",
              "    }\n",
              "\n",
              "    .colab-df-convert:hover {\n",
              "      background-color: #E2EBFA;\n",
              "      box-shadow: 0px 1px 2px rgba(60, 64, 67, 0.3), 0px 1px 3px 1px rgba(60, 64, 67, 0.15);\n",
              "      fill: #174EA6;\n",
              "    }\n",
              "\n",
              "    [theme=dark] .colab-df-convert {\n",
              "      background-color: #3B4455;\n",
              "      fill: #D2E3FC;\n",
              "    }\n",
              "\n",
              "    [theme=dark] .colab-df-convert:hover {\n",
              "      background-color: #434B5C;\n",
              "      box-shadow: 0px 1px 3px 1px rgba(0, 0, 0, 0.15);\n",
              "      filter: drop-shadow(0px 1px 2px rgba(0, 0, 0, 0.3));\n",
              "      fill: #FFFFFF;\n",
              "    }\n",
              "  </style>\n",
              "\n",
              "      <script>\n",
              "        const buttonEl =\n",
              "          document.querySelector('#df-b5366eeb-b3f2-464d-9278-8610807ffbf5 button.colab-df-convert');\n",
              "        buttonEl.style.display =\n",
              "          google.colab.kernel.accessAllowed ? 'block' : 'none';\n",
              "\n",
              "        async function convertToInteractive(key) {\n",
              "          const element = document.querySelector('#df-b5366eeb-b3f2-464d-9278-8610807ffbf5');\n",
              "          const dataTable =\n",
              "            await google.colab.kernel.invokeFunction('convertToInteractive',\n",
              "                                                     [key], {});\n",
              "          if (!dataTable) return;\n",
              "\n",
              "          const docLinkHtml = 'Like what you see? Visit the ' +\n",
              "            '<a target=\"_blank\" href=https://colab.research.google.com/notebooks/data_table.ipynb>data table notebook</a>'\n",
              "            + ' to learn more about interactive tables.';\n",
              "          element.innerHTML = '';\n",
              "          dataTable['output_type'] = 'display_data';\n",
              "          await google.colab.output.renderOutput(dataTable, element);\n",
              "          const docLink = document.createElement('div');\n",
              "          docLink.innerHTML = docLinkHtml;\n",
              "          element.appendChild(docLink);\n",
              "        }\n",
              "      </script>\n",
              "    </div>\n",
              "  </div>\n",
              "  "
            ]
          },
          "metadata": {},
          "execution_count": 16
        }
      ],
      "source": [
        "#Preview the last 10 rows to see the modifications\n",
        "breast_dataset.tail(10)\n"
      ]
    },
    {
      "cell_type": "markdown",
      "id": "5648ecd2",
      "metadata": {
        "lines_to_next_cell": 0,
        "id": "5648ecd2"
      },
      "source": [
        "\n",
        "## Data Visualization using PCA\n",
        "\n",
        "\n",
        "### Visualizing the Breast Cancer data\n",
        "\n",
        "- we start by <b>``Standardizing``</b> the data since PCA's output is influenced based on the scale of the features of the data.\n",
        "- It is a common practice to normalize your data before feeding it to any machine learning algorithm.\n",
        "\n",
        "- To apply normalization, you will import ``StandardScaler`` module from the sklearn library and select only the features from the ``breast_dataset`` you created in the Data Exploration step. Once you have the features, you will then apply scaling by doing ``fit_transform`` on the feature data.\n",
        "\n",
        "- While applying StandardScaler, each feature of our data should be normally distributed such that it will scale the distribution to a mean of zero and a standard deviation of one.\n",
        "\n"
      ]
    },
    {
      "cell_type": "code",
      "execution_count": 17,
      "id": "ed661f8e",
      "metadata": {
        "lines_to_next_cell": 2,
        "id": "ed661f8e"
      },
      "outputs": [],
      "source": [
        "# normalizing the data (make sure that the distibrution of our data is a normal one with a mean of 0 and a standard deviation of one)\n",
        "\n",
        "x = breast_dataset.loc[:,features].values # assigning the values of all the features (except the labels) into X\n",
        "x = StandardScaler().fit_transform(x) "
      ]
    },
    {
      "cell_type": "code",
      "execution_count": 18,
      "id": "00fcbc45",
      "metadata": {
        "lines_to_next_cell": 0,
        "colab": {
          "base_uri": "https://localhost:8080/"
        },
        "id": "00fcbc45",
        "outputId": "0c43fd17-893e-4255-959f-02eb6566ee79"
      },
      "outputs": [
        {
          "output_type": "execute_result",
          "data": {
            "text/plain": [
              "(569, 30)"
            ]
          },
          "metadata": {},
          "execution_count": 18
        }
      ],
      "source": [
        "x.shape"
      ]
    },
    {
      "cell_type": "markdown",
      "id": "7518440e",
      "metadata": {
        "id": "7518440e"
      },
      "source": [
        "Let's check whether the normalized data has a mean of zero and a standard deviation of one.\n"
      ]
    },
    {
      "cell_type": "code",
      "execution_count": 19,
      "id": "12a70b2c",
      "metadata": {
        "lines_to_next_cell": 0,
        "colab": {
          "base_uri": "https://localhost:8080/"
        },
        "id": "12a70b2c",
        "outputId": "13e492aa-fa6f-49fa-8954-66d47f4b5af6"
      },
      "outputs": [
        {
          "output_type": "execute_result",
          "data": {
            "text/plain": [
              "(-6.826538293184326e-17, 1.0)"
            ]
          },
          "metadata": {},
          "execution_count": 19
        }
      ],
      "source": [
        "np.mean(x),np.std(x)"
      ]
    },
    {
      "cell_type": "markdown",
      "id": "5248fd8c",
      "metadata": {
        "id": "5248fd8c"
      },
      "source": [
        "Let's convert the normalized features into a tabular format with the help of DataFrame.\n"
      ]
    },
    {
      "cell_type": "code",
      "execution_count": 20,
      "id": "5ee7d2bf",
      "metadata": {
        "lines_to_next_cell": 2,
        "id": "5ee7d2bf"
      },
      "outputs": [],
      "source": [
        "feat_cols = ['feature' + str(i) for i in range(x.shape[1])]"
      ]
    },
    {
      "cell_type": "code",
      "execution_count": 21,
      "id": "4b9767f2",
      "metadata": {
        "lines_to_next_cell": 2,
        "id": "4b9767f2"
      },
      "outputs": [],
      "source": [
        "normalised_breast = pd.DataFrame(x,columns=feat_cols)"
      ]
    },
    {
      "cell_type": "code",
      "execution_count": 22,
      "id": "8625d7b9",
      "metadata": {
        "lines_to_next_cell": 0,
        "colab": {
          "base_uri": "https://localhost:8080/",
          "height": 300
        },
        "id": "8625d7b9",
        "outputId": "ce656c92-64e9-4da2-a4e4-4d0e7d163c52"
      },
      "outputs": [
        {
          "output_type": "execute_result",
          "data": {
            "text/plain": [
              "     feature0  feature1  feature2  feature3  feature4  feature5  feature6  \\\n",
              "564  2.110995  0.721473  2.060786  2.343856  1.041842  0.219060  1.947285   \n",
              "565  1.704854  2.085134  1.615931  1.723842  0.102458 -0.017833  0.693043   \n",
              "566  0.702284  2.045574  0.672676  0.577953 -0.840484 -0.038680  0.046588   \n",
              "567  1.838341  2.336457  1.982524  1.735218  1.525767  3.272144  3.296944   \n",
              "568 -1.808401  1.221792 -1.814389 -1.347789 -3.112085 -1.150752 -1.114873   \n",
              "\n",
              "     feature7  feature8  feature9  ...  feature20  feature21  feature22  \\\n",
              "564  2.320965 -0.312589 -0.931027  ...   1.901185   0.117700   1.752563   \n",
              "565  1.263669 -0.217664 -1.058611  ...   1.536720   2.047399   1.421940   \n",
              "566  0.105777 -0.809117 -0.895587  ...   0.561361   1.374854   0.579001   \n",
              "567  2.658866  2.137194  1.043695  ...   1.961239   2.237926   2.303601   \n",
              "568 -1.261820 -0.820070 -0.561032  ...  -1.410893   0.764190  -1.432735   \n",
              "\n",
              "     feature23  feature24  feature25  feature26  feature27  feature28  \\\n",
              "564   2.015301   0.378365  -0.273318   0.664512   1.629151  -1.360158   \n",
              "565   1.494959  -0.691230  -0.394820   0.236573   0.733827  -0.531855   \n",
              "566   0.427906  -0.809587   0.350735   0.326767   0.414069  -1.104549   \n",
              "567   1.653171   1.430427   3.904848   3.197605   2.289985   1.919083   \n",
              "568  -1.075813  -1.859019  -1.207552  -1.305831  -1.745063  -0.048138   \n",
              "\n",
              "     feature29  \n",
              "564  -0.709091  \n",
              "565  -0.973978  \n",
              "566  -0.318409  \n",
              "567   2.219635  \n",
              "568  -0.751207  \n",
              "\n",
              "[5 rows x 30 columns]"
            ],
            "text/html": [
              "\n",
              "  <div id=\"df-b0abee0b-9ae5-4d85-a812-b05085f2b68e\">\n",
              "    <div class=\"colab-df-container\">\n",
              "      <div>\n",
              "<style scoped>\n",
              "    .dataframe tbody tr th:only-of-type {\n",
              "        vertical-align: middle;\n",
              "    }\n",
              "\n",
              "    .dataframe tbody tr th {\n",
              "        vertical-align: top;\n",
              "    }\n",
              "\n",
              "    .dataframe thead th {\n",
              "        text-align: right;\n",
              "    }\n",
              "</style>\n",
              "<table border=\"1\" class=\"dataframe\">\n",
              "  <thead>\n",
              "    <tr style=\"text-align: right;\">\n",
              "      <th></th>\n",
              "      <th>feature0</th>\n",
              "      <th>feature1</th>\n",
              "      <th>feature2</th>\n",
              "      <th>feature3</th>\n",
              "      <th>feature4</th>\n",
              "      <th>feature5</th>\n",
              "      <th>feature6</th>\n",
              "      <th>feature7</th>\n",
              "      <th>feature8</th>\n",
              "      <th>feature9</th>\n",
              "      <th>...</th>\n",
              "      <th>feature20</th>\n",
              "      <th>feature21</th>\n",
              "      <th>feature22</th>\n",
              "      <th>feature23</th>\n",
              "      <th>feature24</th>\n",
              "      <th>feature25</th>\n",
              "      <th>feature26</th>\n",
              "      <th>feature27</th>\n",
              "      <th>feature28</th>\n",
              "      <th>feature29</th>\n",
              "    </tr>\n",
              "  </thead>\n",
              "  <tbody>\n",
              "    <tr>\n",
              "      <th>564</th>\n",
              "      <td>2.110995</td>\n",
              "      <td>0.721473</td>\n",
              "      <td>2.060786</td>\n",
              "      <td>2.343856</td>\n",
              "      <td>1.041842</td>\n",
              "      <td>0.219060</td>\n",
              "      <td>1.947285</td>\n",
              "      <td>2.320965</td>\n",
              "      <td>-0.312589</td>\n",
              "      <td>-0.931027</td>\n",
              "      <td>...</td>\n",
              "      <td>1.901185</td>\n",
              "      <td>0.117700</td>\n",
              "      <td>1.752563</td>\n",
              "      <td>2.015301</td>\n",
              "      <td>0.378365</td>\n",
              "      <td>-0.273318</td>\n",
              "      <td>0.664512</td>\n",
              "      <td>1.629151</td>\n",
              "      <td>-1.360158</td>\n",
              "      <td>-0.709091</td>\n",
              "    </tr>\n",
              "    <tr>\n",
              "      <th>565</th>\n",
              "      <td>1.704854</td>\n",
              "      <td>2.085134</td>\n",
              "      <td>1.615931</td>\n",
              "      <td>1.723842</td>\n",
              "      <td>0.102458</td>\n",
              "      <td>-0.017833</td>\n",
              "      <td>0.693043</td>\n",
              "      <td>1.263669</td>\n",
              "      <td>-0.217664</td>\n",
              "      <td>-1.058611</td>\n",
              "      <td>...</td>\n",
              "      <td>1.536720</td>\n",
              "      <td>2.047399</td>\n",
              "      <td>1.421940</td>\n",
              "      <td>1.494959</td>\n",
              "      <td>-0.691230</td>\n",
              "      <td>-0.394820</td>\n",
              "      <td>0.236573</td>\n",
              "      <td>0.733827</td>\n",
              "      <td>-0.531855</td>\n",
              "      <td>-0.973978</td>\n",
              "    </tr>\n",
              "    <tr>\n",
              "      <th>566</th>\n",
              "      <td>0.702284</td>\n",
              "      <td>2.045574</td>\n",
              "      <td>0.672676</td>\n",
              "      <td>0.577953</td>\n",
              "      <td>-0.840484</td>\n",
              "      <td>-0.038680</td>\n",
              "      <td>0.046588</td>\n",
              "      <td>0.105777</td>\n",
              "      <td>-0.809117</td>\n",
              "      <td>-0.895587</td>\n",
              "      <td>...</td>\n",
              "      <td>0.561361</td>\n",
              "      <td>1.374854</td>\n",
              "      <td>0.579001</td>\n",
              "      <td>0.427906</td>\n",
              "      <td>-0.809587</td>\n",
              "      <td>0.350735</td>\n",
              "      <td>0.326767</td>\n",
              "      <td>0.414069</td>\n",
              "      <td>-1.104549</td>\n",
              "      <td>-0.318409</td>\n",
              "    </tr>\n",
              "    <tr>\n",
              "      <th>567</th>\n",
              "      <td>1.838341</td>\n",
              "      <td>2.336457</td>\n",
              "      <td>1.982524</td>\n",
              "      <td>1.735218</td>\n",
              "      <td>1.525767</td>\n",
              "      <td>3.272144</td>\n",
              "      <td>3.296944</td>\n",
              "      <td>2.658866</td>\n",
              "      <td>2.137194</td>\n",
              "      <td>1.043695</td>\n",
              "      <td>...</td>\n",
              "      <td>1.961239</td>\n",
              "      <td>2.237926</td>\n",
              "      <td>2.303601</td>\n",
              "      <td>1.653171</td>\n",
              "      <td>1.430427</td>\n",
              "      <td>3.904848</td>\n",
              "      <td>3.197605</td>\n",
              "      <td>2.289985</td>\n",
              "      <td>1.919083</td>\n",
              "      <td>2.219635</td>\n",
              "    </tr>\n",
              "    <tr>\n",
              "      <th>568</th>\n",
              "      <td>-1.808401</td>\n",
              "      <td>1.221792</td>\n",
              "      <td>-1.814389</td>\n",
              "      <td>-1.347789</td>\n",
              "      <td>-3.112085</td>\n",
              "      <td>-1.150752</td>\n",
              "      <td>-1.114873</td>\n",
              "      <td>-1.261820</td>\n",
              "      <td>-0.820070</td>\n",
              "      <td>-0.561032</td>\n",
              "      <td>...</td>\n",
              "      <td>-1.410893</td>\n",
              "      <td>0.764190</td>\n",
              "      <td>-1.432735</td>\n",
              "      <td>-1.075813</td>\n",
              "      <td>-1.859019</td>\n",
              "      <td>-1.207552</td>\n",
              "      <td>-1.305831</td>\n",
              "      <td>-1.745063</td>\n",
              "      <td>-0.048138</td>\n",
              "      <td>-0.751207</td>\n",
              "    </tr>\n",
              "  </tbody>\n",
              "</table>\n",
              "<p>5 rows × 30 columns</p>\n",
              "</div>\n",
              "      <button class=\"colab-df-convert\" onclick=\"convertToInteractive('df-b0abee0b-9ae5-4d85-a812-b05085f2b68e')\"\n",
              "              title=\"Convert this dataframe to an interactive table.\"\n",
              "              style=\"display:none;\">\n",
              "        \n",
              "  <svg xmlns=\"http://www.w3.org/2000/svg\" height=\"24px\"viewBox=\"0 0 24 24\"\n",
              "       width=\"24px\">\n",
              "    <path d=\"M0 0h24v24H0V0z\" fill=\"none\"/>\n",
              "    <path d=\"M18.56 5.44l.94 2.06.94-2.06 2.06-.94-2.06-.94-.94-2.06-.94 2.06-2.06.94zm-11 1L8.5 8.5l.94-2.06 2.06-.94-2.06-.94L8.5 2.5l-.94 2.06-2.06.94zm10 10l.94 2.06.94-2.06 2.06-.94-2.06-.94-.94-2.06-.94 2.06-2.06.94z\"/><path d=\"M17.41 7.96l-1.37-1.37c-.4-.4-.92-.59-1.43-.59-.52 0-1.04.2-1.43.59L10.3 9.45l-7.72 7.72c-.78.78-.78 2.05 0 2.83L4 21.41c.39.39.9.59 1.41.59.51 0 1.02-.2 1.41-.59l7.78-7.78 2.81-2.81c.8-.78.8-2.07 0-2.86zM5.41 20L4 18.59l7.72-7.72 1.47 1.35L5.41 20z\"/>\n",
              "  </svg>\n",
              "      </button>\n",
              "      \n",
              "  <style>\n",
              "    .colab-df-container {\n",
              "      display:flex;\n",
              "      flex-wrap:wrap;\n",
              "      gap: 12px;\n",
              "    }\n",
              "\n",
              "    .colab-df-convert {\n",
              "      background-color: #E8F0FE;\n",
              "      border: none;\n",
              "      border-radius: 50%;\n",
              "      cursor: pointer;\n",
              "      display: none;\n",
              "      fill: #1967D2;\n",
              "      height: 32px;\n",
              "      padding: 0 0 0 0;\n",
              "      width: 32px;\n",
              "    }\n",
              "\n",
              "    .colab-df-convert:hover {\n",
              "      background-color: #E2EBFA;\n",
              "      box-shadow: 0px 1px 2px rgba(60, 64, 67, 0.3), 0px 1px 3px 1px rgba(60, 64, 67, 0.15);\n",
              "      fill: #174EA6;\n",
              "    }\n",
              "\n",
              "    [theme=dark] .colab-df-convert {\n",
              "      background-color: #3B4455;\n",
              "      fill: #D2E3FC;\n",
              "    }\n",
              "\n",
              "    [theme=dark] .colab-df-convert:hover {\n",
              "      background-color: #434B5C;\n",
              "      box-shadow: 0px 1px 3px 1px rgba(0, 0, 0, 0.15);\n",
              "      filter: drop-shadow(0px 1px 2px rgba(0, 0, 0, 0.3));\n",
              "      fill: #FFFFFF;\n",
              "    }\n",
              "  </style>\n",
              "\n",
              "      <script>\n",
              "        const buttonEl =\n",
              "          document.querySelector('#df-b0abee0b-9ae5-4d85-a812-b05085f2b68e button.colab-df-convert');\n",
              "        buttonEl.style.display =\n",
              "          google.colab.kernel.accessAllowed ? 'block' : 'none';\n",
              "\n",
              "        async function convertToInteractive(key) {\n",
              "          const element = document.querySelector('#df-b0abee0b-9ae5-4d85-a812-b05085f2b68e');\n",
              "          const dataTable =\n",
              "            await google.colab.kernel.invokeFunction('convertToInteractive',\n",
              "                                                     [key], {});\n",
              "          if (!dataTable) return;\n",
              "\n",
              "          const docLinkHtml = 'Like what you see? Visit the ' +\n",
              "            '<a target=\"_blank\" href=https://colab.research.google.com/notebooks/data_table.ipynb>data table notebook</a>'\n",
              "            + ' to learn more about interactive tables.';\n",
              "          element.innerHTML = '';\n",
              "          dataTable['output_type'] = 'display_data';\n",
              "          await google.colab.output.renderOutput(dataTable, element);\n",
              "          const docLink = document.createElement('div');\n",
              "          docLink.innerHTML = docLinkHtml;\n",
              "          element.appendChild(docLink);\n",
              "        }\n",
              "      </script>\n",
              "    </div>\n",
              "  </div>\n",
              "  "
            ]
          },
          "metadata": {},
          "execution_count": 22
        }
      ],
      "source": [
        "normalised_breast.tail()"
      ]
    },
    {
      "cell_type": "markdown",
      "id": "5dab4ac6",
      "metadata": {
        "lines_to_next_cell": 0,
        "id": "5dab4ac6"
      },
      "source": [
        "- Now comes the critical part, the next few lines of code will be projecting the thirty-dimensional Breast Cancer data to two-dimensional <b>``principal components``</b>.\n",
        "\n",
        "- You will use the sklearn library to import the ``PCA`` module, and in the PCA method, you will pass the number of components (n_components=2) and finally call fit_transform on the aggregate data. Here, several components represent the lower dimension in which you will project your higher dimension data.\n",
        "\n"
      ]
    },
    {
      "cell_type": "code",
      "execution_count": 23,
      "id": "38c5358f",
      "metadata": {
        "id": "38c5358f"
      },
      "outputs": [],
      "source": [
        "pca_breast = PCA(n_components=2)\n",
        "principalComponents_breast = pca_breast.fit_transform(x)"
      ]
    },
    {
      "cell_type": "markdown",
      "id": "51d7790a",
      "metadata": {
        "id": "51d7790a"
      },
      "source": [
        "Next, let's create a DataFrame that will have the principal component values for all 569 samples.\n"
      ]
    },
    {
      "cell_type": "code",
      "execution_count": 24,
      "id": "241c9234",
      "metadata": {
        "lines_to_next_cell": 2,
        "id": "241c9234"
      },
      "outputs": [],
      "source": [
        "principal_breast_Df = pd.DataFrame(data = principalComponents_breast\n",
        "             , columns = ['principal component 1', 'principal component 2'])"
      ]
    },
    {
      "cell_type": "code",
      "execution_count": 25,
      "id": "e4ea57c7",
      "metadata": {
        "lines_to_next_cell": 0,
        "colab": {
          "base_uri": "https://localhost:8080/",
          "height": 206
        },
        "id": "e4ea57c7",
        "outputId": "d76b28ef-fccf-42a7-bb2f-a444d94d4553"
      },
      "outputs": [
        {
          "output_type": "execute_result",
          "data": {
            "text/plain": [
              "     principal component 1  principal component 2\n",
              "564               6.439315              -3.576817\n",
              "565               3.793382              -3.584048\n",
              "566               1.256179              -1.902297\n",
              "567              10.374794               1.672010\n",
              "568              -5.475243              -0.670637"
            ],
            "text/html": [
              "\n",
              "  <div id=\"df-3fa7f57b-91e5-405f-8227-5aefb078bb57\">\n",
              "    <div class=\"colab-df-container\">\n",
              "      <div>\n",
              "<style scoped>\n",
              "    .dataframe tbody tr th:only-of-type {\n",
              "        vertical-align: middle;\n",
              "    }\n",
              "\n",
              "    .dataframe tbody tr th {\n",
              "        vertical-align: top;\n",
              "    }\n",
              "\n",
              "    .dataframe thead th {\n",
              "        text-align: right;\n",
              "    }\n",
              "</style>\n",
              "<table border=\"1\" class=\"dataframe\">\n",
              "  <thead>\n",
              "    <tr style=\"text-align: right;\">\n",
              "      <th></th>\n",
              "      <th>principal component 1</th>\n",
              "      <th>principal component 2</th>\n",
              "    </tr>\n",
              "  </thead>\n",
              "  <tbody>\n",
              "    <tr>\n",
              "      <th>564</th>\n",
              "      <td>6.439315</td>\n",
              "      <td>-3.576817</td>\n",
              "    </tr>\n",
              "    <tr>\n",
              "      <th>565</th>\n",
              "      <td>3.793382</td>\n",
              "      <td>-3.584048</td>\n",
              "    </tr>\n",
              "    <tr>\n",
              "      <th>566</th>\n",
              "      <td>1.256179</td>\n",
              "      <td>-1.902297</td>\n",
              "    </tr>\n",
              "    <tr>\n",
              "      <th>567</th>\n",
              "      <td>10.374794</td>\n",
              "      <td>1.672010</td>\n",
              "    </tr>\n",
              "    <tr>\n",
              "      <th>568</th>\n",
              "      <td>-5.475243</td>\n",
              "      <td>-0.670637</td>\n",
              "    </tr>\n",
              "  </tbody>\n",
              "</table>\n",
              "</div>\n",
              "      <button class=\"colab-df-convert\" onclick=\"convertToInteractive('df-3fa7f57b-91e5-405f-8227-5aefb078bb57')\"\n",
              "              title=\"Convert this dataframe to an interactive table.\"\n",
              "              style=\"display:none;\">\n",
              "        \n",
              "  <svg xmlns=\"http://www.w3.org/2000/svg\" height=\"24px\"viewBox=\"0 0 24 24\"\n",
              "       width=\"24px\">\n",
              "    <path d=\"M0 0h24v24H0V0z\" fill=\"none\"/>\n",
              "    <path d=\"M18.56 5.44l.94 2.06.94-2.06 2.06-.94-2.06-.94-.94-2.06-.94 2.06-2.06.94zm-11 1L8.5 8.5l.94-2.06 2.06-.94-2.06-.94L8.5 2.5l-.94 2.06-2.06.94zm10 10l.94 2.06.94-2.06 2.06-.94-2.06-.94-.94-2.06-.94 2.06-2.06.94z\"/><path d=\"M17.41 7.96l-1.37-1.37c-.4-.4-.92-.59-1.43-.59-.52 0-1.04.2-1.43.59L10.3 9.45l-7.72 7.72c-.78.78-.78 2.05 0 2.83L4 21.41c.39.39.9.59 1.41.59.51 0 1.02-.2 1.41-.59l7.78-7.78 2.81-2.81c.8-.78.8-2.07 0-2.86zM5.41 20L4 18.59l7.72-7.72 1.47 1.35L5.41 20z\"/>\n",
              "  </svg>\n",
              "      </button>\n",
              "      \n",
              "  <style>\n",
              "    .colab-df-container {\n",
              "      display:flex;\n",
              "      flex-wrap:wrap;\n",
              "      gap: 12px;\n",
              "    }\n",
              "\n",
              "    .colab-df-convert {\n",
              "      background-color: #E8F0FE;\n",
              "      border: none;\n",
              "      border-radius: 50%;\n",
              "      cursor: pointer;\n",
              "      display: none;\n",
              "      fill: #1967D2;\n",
              "      height: 32px;\n",
              "      padding: 0 0 0 0;\n",
              "      width: 32px;\n",
              "    }\n",
              "\n",
              "    .colab-df-convert:hover {\n",
              "      background-color: #E2EBFA;\n",
              "      box-shadow: 0px 1px 2px rgba(60, 64, 67, 0.3), 0px 1px 3px 1px rgba(60, 64, 67, 0.15);\n",
              "      fill: #174EA6;\n",
              "    }\n",
              "\n",
              "    [theme=dark] .colab-df-convert {\n",
              "      background-color: #3B4455;\n",
              "      fill: #D2E3FC;\n",
              "    }\n",
              "\n",
              "    [theme=dark] .colab-df-convert:hover {\n",
              "      background-color: #434B5C;\n",
              "      box-shadow: 0px 1px 3px 1px rgba(0, 0, 0, 0.15);\n",
              "      filter: drop-shadow(0px 1px 2px rgba(0, 0, 0, 0.3));\n",
              "      fill: #FFFFFF;\n",
              "    }\n",
              "  </style>\n",
              "\n",
              "      <script>\n",
              "        const buttonEl =\n",
              "          document.querySelector('#df-3fa7f57b-91e5-405f-8227-5aefb078bb57 button.colab-df-convert');\n",
              "        buttonEl.style.display =\n",
              "          google.colab.kernel.accessAllowed ? 'block' : 'none';\n",
              "\n",
              "        async function convertToInteractive(key) {\n",
              "          const element = document.querySelector('#df-3fa7f57b-91e5-405f-8227-5aefb078bb57');\n",
              "          const dataTable =\n",
              "            await google.colab.kernel.invokeFunction('convertToInteractive',\n",
              "                                                     [key], {});\n",
              "          if (!dataTable) return;\n",
              "\n",
              "          const docLinkHtml = 'Like what you see? Visit the ' +\n",
              "            '<a target=\"_blank\" href=https://colab.research.google.com/notebooks/data_table.ipynb>data table notebook</a>'\n",
              "            + ' to learn more about interactive tables.';\n",
              "          element.innerHTML = '';\n",
              "          dataTable['output_type'] = 'display_data';\n",
              "          await google.colab.output.renderOutput(dataTable, element);\n",
              "          const docLink = document.createElement('div');\n",
              "          docLink.innerHTML = docLinkHtml;\n",
              "          element.appendChild(docLink);\n",
              "        }\n",
              "      </script>\n",
              "    </div>\n",
              "  </div>\n",
              "  "
            ]
          },
          "metadata": {},
          "execution_count": 25
        }
      ],
      "source": [
        "principal_breast_Df.tail()"
      ]
    },
    {
      "cell_type": "markdown",
      "id": "038fadc0",
      "metadata": {
        "id": "038fadc0"
      },
      "source": [
        "- Once you have the principal components, you can find the <b>``explained_variance_ratio``</b>. It will provide you with the amount of information or variance each principal component holds after projecting the data to a lower dimensional subspace.\n"
      ]
    },
    {
      "cell_type": "code",
      "execution_count": 26,
      "id": "eda0cff9",
      "metadata": {
        "colab": {
          "base_uri": "https://localhost:8080/"
        },
        "id": "eda0cff9",
        "outputId": "d152d090-02fb-41f4-9852-58da1f873535"
      },
      "outputs": [
        {
          "output_type": "stream",
          "name": "stdout",
          "text": [
            "Explained variation per principal component: [0.44272026 0.18971182]\n"
          ]
        }
      ],
      "source": [
        "print('Explained variation per principal component: {}'.format(pca_breast.explained_variance_ratio_))"
      ]
    },
    {
      "cell_type": "markdown",
      "id": "fd4c38bd",
      "metadata": {
        "id": "fd4c38bd"
      },
      "source": [
        "From the above output, you can observe that the ``principal component 1`` holds 44.2% of the information while the ``principal component 2`` holds only 19% of the information. Also, the other point to note is that while projecting thirty-dimensional data to a two-dimensional data, 36.8% information was lost.\n",
        "\n",
        "Let's plot the visualization of the 569 samples along the ``principal component - 1`` and ``principal component - 2`` axis. It should give you good insight into how your samples are distributed among the two classes.\n"
      ]
    },
    {
      "cell_type": "code",
      "execution_count": 27,
      "id": "3a0fa009",
      "metadata": {
        "lines_to_next_cell": 0,
        "colab": {
          "base_uri": "https://localhost:8080/",
          "height": 902
        },
        "id": "3a0fa009",
        "outputId": "c82a16ea-5c57-4069-de58-9a65317a12bd"
      },
      "outputs": [
        {
          "output_type": "display_data",
          "data": {
            "text/plain": [
              "<Figure size 640x480 with 0 Axes>"
            ]
          },
          "metadata": {}
        },
        {
          "output_type": "display_data",
          "data": {
            "text/plain": [
              "<Figure size 1000x1000 with 1 Axes>"
            ],
            "image/png": "[encoded data removed]"
          },
          "metadata": {}
        }
      ],
      "source": [
        "plt.figure()\n",
        "plt.figure(figsize=(10,10))\n",
        "plt.xticks(fontsize=12)\n",
        "plt.yticks(fontsize=14)\n",
        "plt.xlabel('Principal Component - 1',fontsize=15)\n",
        "plt.ylabel('Principal Component - 2',fontsize=15)\n",
        "plt.title(\"Principal Component Analysis of Breast Cancer Dataset\",fontsize=15)\n",
        "targets = ['Benign', 'Malignant']\n",
        "colors = ['indigo', 'orange']\n",
        "\n",
        "for target, color in zip(targets,colors):\n",
        "    indicesToKeep = breast_dataset['label'] == target\n",
        "    plt.scatter(principal_breast_Df.loc[indicesToKeep, 'principal component 1']\n",
        "               , principal_breast_Df.loc[indicesToKeep, 'principal component 2'], c = color, s = 50)\n",
        "\n",
        "plt.legend(targets,prop={'size': 15});"
      ]
    },
    {
      "cell_type": "markdown",
      "id": "fe6ffdb5",
      "metadata": {
        "id": "fe6ffdb5"
      },
      "source": [
        "## Speeding Machine Learning (ML) Algorithm WITH PCA"
      ]
    },
    {
      "cell_type": "markdown",
      "id": "6215a7ef",
      "metadata": {
        "id": "6215a7ef"
      },
      "source": [
        "Here we are comparing the performance of original data with the data processed by PCA, and t-SNE.\n",
        "\n",
        "t-SNE (t-Distributed Stochastic Neighbor Embedding) is a dimensionality reduction technique used to visualize high-dimensional data in two or three dimensions. Unlike PCA (Principal Component Analysis), which is a linear technique, t-SNE is a non-linear technique that can preserve both global and local structures of the data.\n",
        "\n",
        "PCA is a linear dimensionality reduction technique that is well-suited for datasets with a large number of features, where many of the features may be redundant or correlated. PCA seeks to find a linear projection of the data that preserves as much of the variance as possible, which can be useful for feature selection or data compression.\n",
        "\n",
        "t-SNE, on the other hand, is a non-linear dimensionality reduction technique that is better suited for visualizing complex, high-dimensional datasets, where the underlying structure of the data may be difficult to discern in the original space. t-SNE can reveal hidden patterns and relationships that may not be apparent in the original data, making it a popular choice for exploratory data analysis and visualization."
      ]
    },
    {
      "cell_type": "markdown",
      "id": "95aed848",
      "metadata": {
        "id": "95aed848"
      },
      "source": [
        "### Accuracy and Performance of PCA"
      ]
    },
    {
      "cell_type": "code",
      "execution_count": 28,
      "id": "37a2b2ab",
      "metadata": {
        "id": "37a2b2ab"
      },
      "outputs": [],
      "source": [
        "# Split the data into training and testing sets for the original data\n",
        "X_train_orig, X_test_orig, y_train, y_test = train_test_split(breast_data, breast_labels, test_size=0.3, random_state=42)"
      ]
    },
    {
      "cell_type": "code",
      "source": [
        "# Apply PCA to reduce the dimensionality of the data\n",
        "start_time = time.time()\n",
        "pca = PCA(n_components=2)\n",
        "X_pca = pca.fit_transform(breast_data)\n",
        "pca_time = time.time() - start_time\n",
        "\n",
        "# Split the data into training and testing sets for the PCA-reduced data\n",
        "X_train_pca, X_test_pca, y_train, y_test = train_test_split(X_pca, breast_labels, test_size=0.3, random_state=42)"
      ],
      "metadata": {
        "id": "o64AL62up7h4"
      },
      "id": "o64AL62up7h4",
      "execution_count": 29,
      "outputs": []
    },
    {
      "cell_type": "code",
      "source": [
        "# Apply t-SNE to reduce the dimensionality of the data\n",
        "start_time = time.time()\n",
        "tsne = TSNE(n_components=2, init='pca', learning_rate='auto', perplexity=30, n_iter=1000)\n",
        "X_tsne = tsne.fit_transform(breast_data)\n",
        "tsne_time = time.time() - start_time\n",
        "\n",
        "# Split the data into training and testing sets for the t-SNE-reduced data\n",
        "X_train_tsne, X_test_tsne, y_train, y_test = train_test_split(X_tsne, breast_labels, test_size=0.3, random_state=42)"
      ],
      "metadata": {
        "id": "42-FjEs8p3eb"
      },
      "id": "42-FjEs8p3eb",
      "execution_count": 30,
      "outputs": []
    },
    {
      "cell_type": "markdown",
      "id": "b1a02779",
      "metadata": {
        "id": "b1a02779"
      },
      "source": [
        "### Training KNN"
      ]
    },
    {
      "cell_type": "code",
      "execution_count": 31,
      "id": "c7ccac8d",
      "metadata": {
        "colab": {
          "base_uri": "https://localhost:8080/"
        },
        "id": "c7ccac8d",
        "outputId": "85048c0c-0462-4a3b-f844-cf5b2f646c25"
      },
      "outputs": [
        {
          "output_type": "stream",
          "name": "stdout",
          "text": [
            "Accuracy of original data: 0.9590643274853801\n",
            "Time taken for training KNN on original data: 0.10 seconds\n"
          ]
        }
      ],
      "source": [
        "# Train a KNN classifier on the original data\n",
        "start_time = time.time()\n",
        "knn_orig = KNeighborsClassifier()\n",
        "knn_orig.fit(X_train_orig, y_train)\n",
        "y_pred_orig = knn_orig.predict(X_test_orig)\n",
        "orig_time = time.time() - start_time\n",
        "\n",
        "\n",
        "# Evaluate the performance of KNN with the original data\n",
        "acc_orig_knn = accuracy_score(y_test, y_pred_orig)\n",
        "\n",
        "print(f\"Accuracy of original data: {acc_orig_knn}\")\n",
        "\n",
        "print(f\"Time taken for training KNN on original data: {orig_time:.2f} seconds\")\n",
        "\n"
      ]
    },
    {
      "cell_type": "code",
      "source": [
        "# Train a KNN classifier on the PCA-reduced data\n",
        "start_time = time.time()\n",
        "knn_pca = KNeighborsClassifier()\n",
        "knn_pca.fit(X_train_pca, y_train)\n",
        "y_pred_pca = knn_pca.predict(X_test_pca)\n",
        "pca_knn_time = time.time() - start_time\n",
        "\n",
        "# Evaluate the performance of KNN with the PCA\n",
        "acc_pca_knn = accuracy_score(y_test, y_pred_pca)\n",
        "\n",
        "print(f\"Accuracy of PCA-reduced data: {acc_pca_knn}\")\n",
        "\n",
        "#time taken to apply PCA on the data\n",
        "print(f\"Time taken for PCA: {pca_time:.2f} seconds\")\n",
        "\n",
        "#time taken to train the KNN model using the PCA\n",
        "print(f\"Time taken for training KNN on PCA-reduced data: {pca_knn_time:.2f} seconds\")"
      ],
      "metadata": {
        "colab": {
          "base_uri": "https://localhost:8080/"
        },
        "id": "XbhXBjnxqIwY",
        "outputId": "83426b61-e220-4a98-b861-51f7db72925c"
      },
      "id": "XbhXBjnxqIwY",
      "execution_count": 32,
      "outputs": [
        {
          "output_type": "stream",
          "name": "stdout",
          "text": [
            "Accuracy of PCA-reduced data: 0.9649122807017544\n",
            "Time taken for PCA: 0.01 seconds\n",
            "Time taken for training KNN on PCA-reduced data: 0.01 seconds\n"
          ]
        }
      ]
    },
    {
      "cell_type": "code",
      "source": [
        "# Train a KNN classifier on the t-SNE-reduced data\n",
        "start_time = time.time()\n",
        "knn_tsne = KNeighborsClassifier()\n",
        "knn_tsne.fit(X_train_tsne, y_train)\n",
        "y_pred_tsne = knn_tsne.predict(X_test_tsne)\n",
        "tsne_knn_time = time.time() - start_time\n",
        "\n",
        "# Evaluate the performance of KNN with the t-SNE\n",
        "acc_tsne_knn = accuracy_score(y_test, y_pred_tsne)\n",
        "\n",
        "print(f\"Accuracy of t-SNE-reduced data: {acc_tsne_knn}\")\n",
        "\n",
        "#time taken to apply i-SNE on the data\n",
        "print(f\"Time taken for t-SNE: {tsne_time:.2f} seconds\")\n",
        "\n",
        "#time taken to train the KNN model using the t-SNE\n",
        "print(f\"Time taken for training KNN on t-SNE-reduced data: {tsne_knn_time:.2f} seconds\")"
      ],
      "metadata": {
        "colab": {
          "base_uri": "https://localhost:8080/"
        },
        "id": "cmSb1JyUqLuY",
        "outputId": "2c3b6d51-b130-439b-caac-71e65eae239f"
      },
      "id": "cmSb1JyUqLuY",
      "execution_count": 33,
      "outputs": [
        {
          "output_type": "stream",
          "name": "stdout",
          "text": [
            "Accuracy of t-SNE-reduced data: 0.935672514619883\n",
            "Time taken for t-SNE: 10.17 seconds\n",
            "Time taken for training KNN on t-SNE-reduced data: 0.01 seconds\n"
          ]
        }
      ]
    },
    {
      "cell_type": "code",
      "source": [
        "# Plot accuracy results\n",
        "acc_scores = [acc_orig_knn, acc_pca_knn, acc_tsne_knn]\n",
        "labels = ['Original', 'PCA', 't-SNE']\n",
        "colors = ['tab:blue', 'tab:orange', 'tab:green']\n",
        "plt.bar(labels, acc_scores, color=colors)\n",
        "plt.ylim(0.9, 1.0)\n",
        "plt.title('Accuracy Scores using KNN')\n",
        "plt.show()"
      ],
      "metadata": {
        "colab": {
          "base_uri": "https://localhost:8080/",
          "height": 452
        },
        "id": "jjYL0r0YOTjo",
        "outputId": "92b801c6-b5d6-4b31-ccb2-0edb1aadcd83"
      },
      "id": "jjYL0r0YOTjo",
      "execution_count": 34,
      "outputs": [
        {
          "output_type": "display_data",
          "data": {
            "text/plain": [
              "<Figure size 640x480 with 1 Axes>"
            ],
            "image/png": "[encoded data removed]"
          },
          "metadata": {}
        }
      ]
    },
    {
      "cell_type": "code",
      "source": [
        "# Plot performance results\n",
        "performance_times = [orig_time, pca_knn_time, tsne_knn_time]\n",
        "plt.bar(labels, performance_times, color=colors)\n",
        "plt.title('Performance Times in second')\n",
        "plt.show()"
      ],
      "metadata": {
        "colab": {
          "base_uri": "https://localhost:8080/",
          "height": 452
        },
        "id": "NPbASx1VO4E2",
        "outputId": "c6f5de77-a975-45fd-be76-e6c113e693ee"
      },
      "id": "NPbASx1VO4E2",
      "execution_count": 35,
      "outputs": [
        {
          "output_type": "display_data",
          "data": {
            "text/plain": [
              "<Figure size 640x480 with 1 Axes>"
            ],
            "image/png": "[encoded data removed]"
          },
          "metadata": {}
        }
      ]
    },
    {
      "cell_type": "markdown",
      "id": "abc20877",
      "metadata": {
        "id": "abc20877"
      },
      "source": [
        "From the above output, it is evident that the time taken for training a KNN was better using the PCA processed data in comparison with the original one, we applied the t-SNE also to validate our evaluation, and it had similar results within the same data. However, the acuracy of PCA was better in comparison to the original and t-SNE processed data, making PCA more efficient and effective in overall.\n",
        "\n",
        "So, by applying PCA on the training data we were able to train our deep learning algorithm not only ``fast``, but it also achieved better ``accuracy`` on the testing data when compared with the deep learning algorithm trained with original training data.\n",
        "\n",
        "## References\n",
        "\n",
        " - <a href=\"\n",
        "https://scikit-learn.org/stable/modules/generated/sklearn.manifold.TSNE.html\">tSNE</a> - which is a non-linear probabilistic dimensionality reduction technique.\n",
        "\n",
        " - <a href=\"https://scikit-learn.org/stable/modules/generated/sklearn.decomposition.PCA.html\">PCA in Sklearn</a>\n",
        " - <a href=\"https://www.datacamp.com/community/tutorials/pca-analysis-r\">Principal Component Analysis in R</a>\n",
        " - <a href=\"https://towardsdatascience.com/pca-using-python-scikit-learn-e653f8989e60\">PCA using Python (scikit-learn)</a>"
      ]
    },
    {
      "cell_type": "code",
      "execution_count": 35,
      "id": "22b943c9",
      "metadata": {
        "id": "22b943c9"
      },
      "outputs": [],
      "source": []
    }
  ],
  "metadata": {
    "editor": "DataCamp Workspace",
    "jupytext": {
      "cell_metadata_filter": "-all",
      "main_language": "python",
      "notebook_metadata_filter": "-all"
    },
    "kernelspec": {
      "display_name": "Python 3 (ipykernel)",
      "language": "python",
      "name": "python3"
    },
    "language_info": {
      "codemirror_mode": {
        "name": "ipython",
        "version": 3
      },
      "file_extension": ".py",
      "mimetype": "text/x-python",
      "name": "python",
      "nbconvert_exporter": "python",
      "pygments_lexer": "ipython3",
      "version": "3.9.13"
    },
    "colab": {
      "provenance": [],
      "include_colab_link": true
    }
  },
  "nbformat": 4,
  "nbformat_minor": 5
}